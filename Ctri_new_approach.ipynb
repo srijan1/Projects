{
  "cells": [
    {
      "cell_type": "markdown",
      "metadata": {
        "id": "p7yfEt23taU9"
      },
      "source": [
        "# CTRI"
      ]
    },
    {
      "cell_type": "markdown",
      "metadata": {
        "id": "T0e__YIQtaVA"
      },
      "source": [
        "### GUI"
      ]
    },
    {
      "cell_type": "code",
      "execution_count": null,
      "metadata": {
        "id": "wDJ6Kgx2taVA",
        "colab": {
          "base_uri": "https://localhost:8080/",
          "height": 373
        },
        "outputId": "a769d6c4-37c1-4437-8a2b-3fd471719454"
      },
      "outputs": [
        {
          "output_type": "error",
          "ename": "ModuleNotFoundError",
          "evalue": "ignored",
          "traceback": [
            "\u001b[0;31m---------------------------------------------------------------------------\u001b[0m",
            "\u001b[0;31mModuleNotFoundError\u001b[0m                       Traceback (most recent call last)",
            "\u001b[0;32m<ipython-input-28-c4442f53f53d>\u001b[0m in \u001b[0;36m<module>\u001b[0;34m\u001b[0m\n\u001b[0;32m----> 1\u001b[0;31m \u001b[0;32mimport\u001b[0m \u001b[0mPySimpleGUI\u001b[0m \u001b[0;32mas\u001b[0m \u001b[0msg\u001b[0m\u001b[0;34m\u001b[0m\u001b[0;34m\u001b[0m\u001b[0m\n\u001b[0m\u001b[1;32m      2\u001b[0m \u001b[0;34m\u001b[0m\u001b[0m\n\u001b[1;32m      3\u001b[0m event, values = sg.Window('CTRI SCRAPER',\n\u001b[1;32m      4\u001b[0m                   [[sg.T('Enter CTRI number'), sg.In(key='-ID-')],\n\u001b[1;32m      5\u001b[0m                   [sg.B('OK'), sg.B('Cancel') ]]).read(close=True)\n",
            "\u001b[0;31mModuleNotFoundError\u001b[0m: No module named 'PySimpleGUI'",
            "",
            "\u001b[0;31m---------------------------------------------------------------------------\u001b[0;32m\nNOTE: If your import is failing due to a missing package, you can\nmanually install dependencies using either !pip or !apt.\n\nTo view examples of installing some common dependencies, click the\n\"Open Examples\" button below.\n\u001b[0;31m---------------------------------------------------------------------------\u001b[0m\n"
          ],
          "errorDetails": {
            "actions": [
              {
                "action": "open_url",
                "actionText": "Open Examples",
                "url": "/notebooks/snippets/importing_libraries.ipynb"
              }
            ]
          }
        }
      ],
      "source": [
        "import PySimpleGUI as sg\n",
        "\n",
        "event, values = sg.Window('CTRI SCRAPER',\n",
        "                  [[sg.T('Enter CTRI number'), sg.In(key='-ID-')],\n",
        "                  [sg.B('OK'), sg.B('Cancel') ]]).read(close=True)\n",
        "\n",
        "ctri_number = values['-ID-']"
      ]
    },
    {
      "cell_type": "code",
      "execution_count": null,
      "metadata": {
        "id": "7OiVNlRmtaVB",
        "outputId": "48b0db7a-1c4f-4237-d2c5-b4fd50a81128"
      },
      "outputs": [
        {
          "data": {
            "text/plain": [
              "'CTRI 10/9/11'"
            ]
          },
          "execution_count": 2,
          "metadata": {},
          "output_type": "execute_result"
        }
      ],
      "source": [
        "ctri_number"
      ]
    },
    {
      "cell_type": "markdown",
      "metadata": {
        "id": "FXIC3mfutaU9"
      },
      "source": [
        "### Improting Libraries"
      ]
    },
    {
      "cell_type": "code",
      "execution_count": null,
      "metadata": {
        "id": "DOhOiYkEtaU_"
      },
      "outputs": [],
      "source": [
        "import pandas as pd\n",
        "import numpy as np\n",
        "from bs4 import BeautifulSoup\n",
        "import requests\n",
        "import re"
      ]
    },
    {
      "cell_type": "code",
      "execution_count": null,
      "metadata": {
        "id": "r8aNZr9itaU_"
      },
      "outputs": [],
      "source": [
        "import time\n",
        "import random\n",
        "import xlrd"
      ]
    },
    {
      "cell_type": "code",
      "execution_count": null,
      "metadata": {
        "id": "TyS7ASAntaU_"
      },
      "outputs": [],
      "source": [
        "index= list(range(1, 30, 1))"
      ]
    },
    {
      "cell_type": "markdown",
      "metadata": {
        "id": "Pl1LIzXEtaUv"
      },
      "source": [
        "### Create the urls for all ctri trial studies."
      ]
    },
    {
      "cell_type": "code",
      "execution_count": null,
      "metadata": {
        "id": "dH1nUiV6taUy"
      },
      "outputs": [],
      "source": [
        "url= [\"http://ctri.nic.in/Clinicaltrials/pmaindet2.php?trialid=\"+str(i)+\"&EncHid=&userName=CTRI\" for i in index]"
      ]
    },
    {
      "cell_type": "code",
      "execution_count": null,
      "metadata": {
        "id": "u_WhnfcEtaU0"
      },
      "outputs": [],
      "source": [
        "d = {'number': index, 'url': url}"
      ]
    },
    {
      "cell_type": "code",
      "execution_count": null,
      "metadata": {
        "id": "I3T9zex4taU1",
        "outputId": "d7829889-eb95-465a-8717-cedb75a38aef",
        "colab": {
          "base_uri": "https://localhost:8080/"
        }
      },
      "outputs": [
        {
          "output_type": "stream",
          "name": "stdout",
          "text": [
            "{'number': [1, 2, 3, 4, 5, 6, 7, 8, 9, 10, 11, 12, 13, 14, 15, 16, 17, 18, 19, 20, 21, 22, 23, 24, 25, 26, 27, 28, 29], 'url': ['http://ctri.nic.in/Clinicaltrials/pmaindet2.php?trialid=1&EncHid=&userName=CTRI', 'http://ctri.nic.in/Clinicaltrials/pmaindet2.php?trialid=2&EncHid=&userName=CTRI', 'http://ctri.nic.in/Clinicaltrials/pmaindet2.php?trialid=3&EncHid=&userName=CTRI', 'http://ctri.nic.in/Clinicaltrials/pmaindet2.php?trialid=4&EncHid=&userName=CTRI', 'http://ctri.nic.in/Clinicaltrials/pmaindet2.php?trialid=5&EncHid=&userName=CTRI', 'http://ctri.nic.in/Clinicaltrials/pmaindet2.php?trialid=6&EncHid=&userName=CTRI', 'http://ctri.nic.in/Clinicaltrials/pmaindet2.php?trialid=7&EncHid=&userName=CTRI', 'http://ctri.nic.in/Clinicaltrials/pmaindet2.php?trialid=8&EncHid=&userName=CTRI', 'http://ctri.nic.in/Clinicaltrials/pmaindet2.php?trialid=9&EncHid=&userName=CTRI', 'http://ctri.nic.in/Clinicaltrials/pmaindet2.php?trialid=10&EncHid=&userName=CTRI', 'http://ctri.nic.in/Clinicaltrials/pmaindet2.php?trialid=11&EncHid=&userName=CTRI', 'http://ctri.nic.in/Clinicaltrials/pmaindet2.php?trialid=12&EncHid=&userName=CTRI', 'http://ctri.nic.in/Clinicaltrials/pmaindet2.php?trialid=13&EncHid=&userName=CTRI', 'http://ctri.nic.in/Clinicaltrials/pmaindet2.php?trialid=14&EncHid=&userName=CTRI', 'http://ctri.nic.in/Clinicaltrials/pmaindet2.php?trialid=15&EncHid=&userName=CTRI', 'http://ctri.nic.in/Clinicaltrials/pmaindet2.php?trialid=16&EncHid=&userName=CTRI', 'http://ctri.nic.in/Clinicaltrials/pmaindet2.php?trialid=17&EncHid=&userName=CTRI', 'http://ctri.nic.in/Clinicaltrials/pmaindet2.php?trialid=18&EncHid=&userName=CTRI', 'http://ctri.nic.in/Clinicaltrials/pmaindet2.php?trialid=19&EncHid=&userName=CTRI', 'http://ctri.nic.in/Clinicaltrials/pmaindet2.php?trialid=20&EncHid=&userName=CTRI', 'http://ctri.nic.in/Clinicaltrials/pmaindet2.php?trialid=21&EncHid=&userName=CTRI', 'http://ctri.nic.in/Clinicaltrials/pmaindet2.php?trialid=22&EncHid=&userName=CTRI', 'http://ctri.nic.in/Clinicaltrials/pmaindet2.php?trialid=23&EncHid=&userName=CTRI', 'http://ctri.nic.in/Clinicaltrials/pmaindet2.php?trialid=24&EncHid=&userName=CTRI', 'http://ctri.nic.in/Clinicaltrials/pmaindet2.php?trialid=25&EncHid=&userName=CTRI', 'http://ctri.nic.in/Clinicaltrials/pmaindet2.php?trialid=26&EncHid=&userName=CTRI', 'http://ctri.nic.in/Clinicaltrials/pmaindet2.php?trialid=27&EncHid=&userName=CTRI', 'http://ctri.nic.in/Clinicaltrials/pmaindet2.php?trialid=28&EncHid=&userName=CTRI', 'http://ctri.nic.in/Clinicaltrials/pmaindet2.php?trialid=29&EncHid=&userName=CTRI']}\n"
          ]
        }
      ],
      "source": [
        "print(d)"
      ]
    },
    {
      "cell_type": "code",
      "execution_count": null,
      "metadata": {
        "id": "11NhsGK0taU3"
      },
      "outputs": [],
      "source": [
        "df = pd.DataFrame(data=d)"
      ]
    },
    {
      "cell_type": "code",
      "execution_count": null,
      "metadata": {
        "id": "JgqFEHP2taU3",
        "outputId": "6d7fe600-7272-4261-a20d-c7919645e60e",
        "colab": {
          "base_uri": "https://localhost:8080/",
          "height": 304
        }
      },
      "outputs": [
        {
          "output_type": "error",
          "ename": "FileNotFoundError",
          "evalue": "ignored",
          "traceback": [
            "\u001b[0;31m---------------------------------------------------------------------------\u001b[0m",
            "\u001b[0;31mFileNotFoundError\u001b[0m                         Traceback (most recent call last)",
            "\u001b[0;32m<ipython-input-33-add2e1fca03a>\u001b[0m in \u001b[0;36m<module>\u001b[0;34m\u001b[0m\n\u001b[1;32m      1\u001b[0m \u001b[0;32mfrom\u001b[0m \u001b[0mgoogle\u001b[0m\u001b[0;34m.\u001b[0m\u001b[0mcolab\u001b[0m \u001b[0;32mimport\u001b[0m \u001b[0mfiles\u001b[0m\u001b[0;34m\u001b[0m\u001b[0;34m\u001b[0m\u001b[0m\n\u001b[0;32m----> 2\u001b[0;31m \u001b[0mfiles\u001b[0m\u001b[0;34m.\u001b[0m\u001b[0mdownload\u001b[0m\u001b[0;34m(\u001b[0m\u001b[0;34m\"df.csv\"\u001b[0m\u001b[0;34m)\u001b[0m\u001b[0;34m\u001b[0m\u001b[0;34m\u001b[0m\u001b[0m\n\u001b[0m",
            "\u001b[0;32m/usr/local/lib/python3.7/dist-packages/google/colab/files.py\u001b[0m in \u001b[0;36mdownload\u001b[0;34m(filename)\u001b[0m\n\u001b[1;32m    207\u001b[0m   \u001b[0;32mif\u001b[0m \u001b[0;32mnot\u001b[0m \u001b[0m_os\u001b[0m\u001b[0;34m.\u001b[0m\u001b[0mpath\u001b[0m\u001b[0;34m.\u001b[0m\u001b[0mexists\u001b[0m\u001b[0;34m(\u001b[0m\u001b[0mfilename\u001b[0m\u001b[0;34m)\u001b[0m\u001b[0;34m:\u001b[0m\u001b[0;34m\u001b[0m\u001b[0;34m\u001b[0m\u001b[0m\n\u001b[1;32m    208\u001b[0m     \u001b[0mmsg\u001b[0m \u001b[0;34m=\u001b[0m \u001b[0;34m'Cannot find file: {}'\u001b[0m\u001b[0;34m.\u001b[0m\u001b[0mformat\u001b[0m\u001b[0;34m(\u001b[0m\u001b[0mfilename\u001b[0m\u001b[0;34m)\u001b[0m\u001b[0;34m\u001b[0m\u001b[0;34m\u001b[0m\u001b[0m\n\u001b[0;32m--> 209\u001b[0;31m     \u001b[0;32mraise\u001b[0m \u001b[0mFileNotFoundError\u001b[0m\u001b[0;34m(\u001b[0m\u001b[0mmsg\u001b[0m\u001b[0;34m)\u001b[0m  \u001b[0;31m# pylint: disable=undefined-variable\u001b[0m\u001b[0;34m\u001b[0m\u001b[0;34m\u001b[0m\u001b[0m\n\u001b[0m\u001b[1;32m    210\u001b[0m \u001b[0;34m\u001b[0m\u001b[0m\n\u001b[1;32m    211\u001b[0m   \u001b[0mcomm_manager\u001b[0m \u001b[0;34m=\u001b[0m \u001b[0m_IPython\u001b[0m\u001b[0;34m.\u001b[0m\u001b[0mget_ipython\u001b[0m\u001b[0;34m(\u001b[0m\u001b[0;34m)\u001b[0m\u001b[0;34m.\u001b[0m\u001b[0mkernel\u001b[0m\u001b[0;34m.\u001b[0m\u001b[0mcomm_manager\u001b[0m\u001b[0;34m\u001b[0m\u001b[0;34m\u001b[0m\u001b[0m\n",
            "\u001b[0;31mFileNotFoundError\u001b[0m: Cannot find file: df.csv"
          ]
        }
      ],
      "source": [
        "from google.colab import files\n",
        "files.download(\"df.csv\")"
      ]
    },
    {
      "cell_type": "markdown",
      "metadata": {
        "id": "DW3otU2RtaU4"
      },
      "source": [
        "### Function to scrape the ctri id and secondary id fields for the all trials."
      ]
    },
    {
      "cell_type": "code",
      "execution_count": null,
      "metadata": {
        "id": "Ow_us9RWtaU4"
      },
      "outputs": [],
      "source": [
        "def tt(url):\n",
        "    yt= []\n",
        "    try:\n",
        "        r= requests.get(url)\n",
        "        soup= BeautifulSoup(r.text, 'lxml')\n",
        "        bb= [text for text in soup.stripped_strings]\n",
        "        aa= bb[bb.index('Identifier'): bb.index('Details of Principal Investigator or overall Trial Coordinator (multi-center study)')]\n",
        "        cc= bb[bb.index('CTRI Number'): bb.index('Last Modified On:')]\n",
        "        yt.append([aa, cc])\n",
        "    except:\n",
        "        pass\n",
        "    finally:\n",
        "        return yt"
      ]
    },
    {
      "cell_type": "markdown",
      "metadata": {
        "id": "iv_on86dtaU5"
      },
      "source": [
        "### Multiprocessing to run the program on multiple cores for faster excution of program."
      ]
    },
    {
      "cell_type": "code",
      "execution_count": null,
      "metadata": {
        "id": "UEiG8KR3taU6",
        "colab": {
          "base_uri": "https://localhost:8080/"
        },
        "outputId": "3bd41004-1f6c-4730-b488-61f0cddb497a"
      },
      "outputs": [
        {
          "output_type": "stream",
          "name": "stderr",
          "text": [
            "/usr/local/lib/python3.7/dist-packages/ipykernel_launcher.py:12: VisibleDeprecationWarning: Creating an ndarray from ragged nested sequences (which is a list-or-tuple of lists-or-tuples-or ndarrays with different lengths or shapes) is deprecated. If you meant to do this, you must specify 'dtype=object' when creating the ndarray.\n",
            "  if sys.path[0] == '':\n"
          ]
        }
      ],
      "source": [
        "import multiprocessing as mp\n",
        "from multiprocessing.dummy import Pool as ThreadPool\n",
        "pool = ThreadPool(mp.cpu_count())\n",
        "\n",
        "\n",
        "\n",
        "\n",
        "io= df.url.tolist()\n",
        "\n",
        "\n",
        "results = pool.map(tt, io)\n",
        "df2 = pd.DataFrame(np.array(results), columns=['id'])\n",
        "pool.close()\n",
        "pool.join()\n"
      ]
    },
    {
      "cell_type": "markdown",
      "metadata": {
        "id": "i6VIYE_7taU7"
      },
      "source": [
        "### Cleaning the text field for secondary id information and ctri-id information."
      ]
    },
    {
      "cell_type": "code",
      "execution_count": null,
      "metadata": {
        "id": "IfzPTpM4taU7"
      },
      "outputs": [],
      "source": [
        "df2= df.merge(df2, how='outer', left_index= True, right_index= True)\n",
        "df2['nct_id']=df2.id.str.extract('(NCT\\d{8})')\n",
        "df2['ctri']= df2.id.str.extract('(CTRI/\\d+/\\d+/\\d+)')"
      ]
    },
    {
      "cell_type": "code",
      "execution_count": null,
      "metadata": {
        "id": "-l0hmyZ6taU8"
      },
      "outputs": [],
      "source": [
        "df2.to_excel('ctri_secondary_id.xlsx')"
      ]
    },
    {
      "cell_type": "code",
      "execution_count": null,
      "metadata": {
        "id": "Uf7eXALotaU8",
        "outputId": "d3042ff6-fa1b-4348-f8ad-16cf20994ff9",
        "colab": {
          "base_uri": "https://localhost:8080/",
          "height": 1000
        }
      },
      "outputs": [
        {
          "output_type": "stream",
          "name": "stdout",
          "text": [
            "    number                                                url  \\\n",
            "0        1  http://ctri.nic.in/Clinicaltrials/pmaindet2.ph...   \n",
            "1        2  http://ctri.nic.in/Clinicaltrials/pmaindet2.ph...   \n",
            "2        3  http://ctri.nic.in/Clinicaltrials/pmaindet2.ph...   \n",
            "3        4  http://ctri.nic.in/Clinicaltrials/pmaindet2.ph...   \n",
            "4        5  http://ctri.nic.in/Clinicaltrials/pmaindet2.ph...   \n",
            "5        6  http://ctri.nic.in/Clinicaltrials/pmaindet2.ph...   \n",
            "6        7  http://ctri.nic.in/Clinicaltrials/pmaindet2.ph...   \n",
            "7        8  http://ctri.nic.in/Clinicaltrials/pmaindet2.ph...   \n",
            "8        9  http://ctri.nic.in/Clinicaltrials/pmaindet2.ph...   \n",
            "9       10  http://ctri.nic.in/Clinicaltrials/pmaindet2.ph...   \n",
            "10      11  http://ctri.nic.in/Clinicaltrials/pmaindet2.ph...   \n",
            "11      12  http://ctri.nic.in/Clinicaltrials/pmaindet2.ph...   \n",
            "12      13  http://ctri.nic.in/Clinicaltrials/pmaindet2.ph...   \n",
            "13      14  http://ctri.nic.in/Clinicaltrials/pmaindet2.ph...   \n",
            "14      15  http://ctri.nic.in/Clinicaltrials/pmaindet2.ph...   \n",
            "15      16  http://ctri.nic.in/Clinicaltrials/pmaindet2.ph...   \n",
            "16      17  http://ctri.nic.in/Clinicaltrials/pmaindet2.ph...   \n",
            "17      18  http://ctri.nic.in/Clinicaltrials/pmaindet2.ph...   \n",
            "18      19  http://ctri.nic.in/Clinicaltrials/pmaindet2.ph...   \n",
            "19      20  http://ctri.nic.in/Clinicaltrials/pmaindet2.ph...   \n",
            "20      21  http://ctri.nic.in/Clinicaltrials/pmaindet2.ph...   \n",
            "21      22  http://ctri.nic.in/Clinicaltrials/pmaindet2.ph...   \n",
            "22      23  http://ctri.nic.in/Clinicaltrials/pmaindet2.ph...   \n",
            "23      24  http://ctri.nic.in/Clinicaltrials/pmaindet2.ph...   \n",
            "24      25  http://ctri.nic.in/Clinicaltrials/pmaindet2.ph...   \n",
            "25      26  http://ctri.nic.in/Clinicaltrials/pmaindet2.ph...   \n",
            "26      27  http://ctri.nic.in/Clinicaltrials/pmaindet2.ph...   \n",
            "27      28  http://ctri.nic.in/Clinicaltrials/pmaindet2.ph...   \n",
            "28      29  http://ctri.nic.in/Clinicaltrials/pmaindet2.ph...   \n",
            "\n",
            "                                                   id nct_id ctri  \n",
            "0   [[[Identifier, NIL, NIL], [CTRI Number, CTRI/2...    NaN  NaN  \n",
            "1   [[[Identifier, NIL, NIL], [CTRI Number, CTRI/2...    NaN  NaN  \n",
            "2   [[[Identifier, SI0706, Other], [CTRI Number, C...    NaN  NaN  \n",
            "3                                                  []    NaN  NaN  \n",
            "4                                                  []    NaN  NaN  \n",
            "5   [[[Identifier, NIL, NIL], [CTRI Number, CTRI/2...    NaN  NaN  \n",
            "6   [[[Identifier, NCT00366470, ClinicalTrials.gov...    NaN  NaN  \n",
            "7   [[[Identifier, NIL, NIL], [CTRI Number, CTRI/2...    NaN  NaN  \n",
            "8                                                  []    NaN  NaN  \n",
            "9                                                  []    NaN  NaN  \n",
            "10  [[[Identifier, NIL, NIL], [CTRI Number, CTRI/2...    NaN  NaN  \n",
            "11  [[[Identifier, ICON/H&N/0601, Protocol Number]...    NaN  NaN  \n",
            "12                                                 []    NaN  NaN  \n",
            "13  [[[Identifier, NCT00443794, ClinicalTrials.gov...    NaN  NaN  \n",
            "14  [[[Identifier, NCT00468923, ClinicalTrials.gov...    NaN  NaN  \n",
            "15  [[[Identifier, NCT00369070, ClinicalTrials.gov...    NaN  NaN  \n",
            "16                                                 []    NaN  NaN  \n",
            "17  [[[Identifier, NIL, NIL], [CTRI Number, CTRI/2...    NaN  NaN  \n",
            "18  [[[Identifier, NCT00455533, ClinicalTrials.gov...    NaN  NaN  \n",
            "19  [[[Identifier, CD-NIN-BV ver 9 dt. September 1...    NaN  NaN  \n",
            "20  [[[Identifier, NCT00481247, ClinicalTrials.gov...    NaN  NaN  \n",
            "21  [[[Identifier, 2006-004495-13, EudraCT, NCT004...    NaN  NaN  \n",
            "22                                                 []    NaN  NaN  \n",
            "23  [[[Identifier, 2006-00 4494-96, EudraCT, NCT00...    NaN  NaN  \n",
            "24  [[[Identifier, NIL, NIL], [CTRI Number, CTRI/2...    NaN  NaN  \n",
            "25  [[[Identifier, BSX-001, Amendment 2, 21 Dec 20...    NaN  NaN  \n",
            "26  [[[Identifier, ACTRN12605000004662, ANZCTR], [...    NaN  NaN  \n",
            "27  [[[Identifier, R1ARTP1072015, Protocol Number]...    NaN  NaN  \n",
            "28  [[[Identifier, NIL, NIL], [CTRI Number, CTRI/2...    NaN  NaN  \n"
          ]
        },
        {
          "output_type": "error",
          "ename": "FileNotFoundError",
          "evalue": "ignored",
          "traceback": [
            "\u001b[0;31m---------------------------------------------------------------------------\u001b[0m",
            "\u001b[0;31mFileNotFoundError\u001b[0m                         Traceback (most recent call last)",
            "\u001b[0;32m<ipython-input-34-3d3fd7d0c96c>\u001b[0m in \u001b[0;36m<module>\u001b[0;34m\u001b[0m\n\u001b[1;32m      1\u001b[0m \u001b[0mprint\u001b[0m\u001b[0;34m(\u001b[0m\u001b[0mdf2\u001b[0m\u001b[0;34m)\u001b[0m\u001b[0;34m\u001b[0m\u001b[0;34m\u001b[0m\u001b[0m\n\u001b[1;32m      2\u001b[0m \u001b[0;32mfrom\u001b[0m \u001b[0mgoogle\u001b[0m\u001b[0;34m.\u001b[0m\u001b[0mcolab\u001b[0m \u001b[0;32mimport\u001b[0m \u001b[0mfiles\u001b[0m\u001b[0;34m\u001b[0m\u001b[0;34m\u001b[0m\u001b[0m\n\u001b[0;32m----> 3\u001b[0;31m \u001b[0mfiles\u001b[0m\u001b[0;34m.\u001b[0m\u001b[0mdownload\u001b[0m\u001b[0;34m(\u001b[0m\u001b[0;34m\"df2.csv\"\u001b[0m\u001b[0;34m)\u001b[0m\u001b[0;34m\u001b[0m\u001b[0;34m\u001b[0m\u001b[0m\n\u001b[0m",
            "\u001b[0;32m/usr/local/lib/python3.7/dist-packages/google/colab/files.py\u001b[0m in \u001b[0;36mdownload\u001b[0;34m(filename)\u001b[0m\n\u001b[1;32m    207\u001b[0m   \u001b[0;32mif\u001b[0m \u001b[0;32mnot\u001b[0m \u001b[0m_os\u001b[0m\u001b[0;34m.\u001b[0m\u001b[0mpath\u001b[0m\u001b[0;34m.\u001b[0m\u001b[0mexists\u001b[0m\u001b[0;34m(\u001b[0m\u001b[0mfilename\u001b[0m\u001b[0;34m)\u001b[0m\u001b[0;34m:\u001b[0m\u001b[0;34m\u001b[0m\u001b[0;34m\u001b[0m\u001b[0m\n\u001b[1;32m    208\u001b[0m     \u001b[0mmsg\u001b[0m \u001b[0;34m=\u001b[0m \u001b[0;34m'Cannot find file: {}'\u001b[0m\u001b[0;34m.\u001b[0m\u001b[0mformat\u001b[0m\u001b[0;34m(\u001b[0m\u001b[0mfilename\u001b[0m\u001b[0;34m)\u001b[0m\u001b[0;34m\u001b[0m\u001b[0;34m\u001b[0m\u001b[0m\n\u001b[0;32m--> 209\u001b[0;31m     \u001b[0;32mraise\u001b[0m \u001b[0mFileNotFoundError\u001b[0m\u001b[0;34m(\u001b[0m\u001b[0mmsg\u001b[0m\u001b[0;34m)\u001b[0m  \u001b[0;31m# pylint: disable=undefined-variable\u001b[0m\u001b[0;34m\u001b[0m\u001b[0;34m\u001b[0m\u001b[0m\n\u001b[0m\u001b[1;32m    210\u001b[0m \u001b[0;34m\u001b[0m\u001b[0m\n\u001b[1;32m    211\u001b[0m   \u001b[0mcomm_manager\u001b[0m \u001b[0;34m=\u001b[0m \u001b[0m_IPython\u001b[0m\u001b[0;34m.\u001b[0m\u001b[0mget_ipython\u001b[0m\u001b[0;34m(\u001b[0m\u001b[0;34m)\u001b[0m\u001b[0;34m.\u001b[0m\u001b[0mkernel\u001b[0m\u001b[0;34m.\u001b[0m\u001b[0mcomm_manager\u001b[0m\u001b[0;34m\u001b[0m\u001b[0;34m\u001b[0m\u001b[0m\n",
            "\u001b[0;31mFileNotFoundError\u001b[0m: Cannot find file: df2.csv"
          ]
        }
      ],
      "source": [
        "print(df2)\n",
        "from google.colab import files\n",
        "files.download(\"df2.csv\")"
      ]
    },
    {
      "cell_type": "code",
      "source": [
        "from google.colab import files\n",
        "df2.to_csv('filename.csv')\n",
        "files.download('filename.csv')"
      ],
      "metadata": {
        "colab": {
          "base_uri": "https://localhost:8080/",
          "height": 17
        },
        "id": "xXCaD3rC2lfd",
        "outputId": "fcf8d1f5-f653-4664-e310-6f6ee4a259fc"
      },
      "execution_count": null,
      "outputs": [
        {
          "output_type": "display_data",
          "data": {
            "text/plain": [
              "<IPython.core.display.Javascript object>"
            ],
            "application/javascript": [
              "\n",
              "    async function download(id, filename, size) {\n",
              "      if (!google.colab.kernel.accessAllowed) {\n",
              "        return;\n",
              "      }\n",
              "      const div = document.createElement('div');\n",
              "      const label = document.createElement('label');\n",
              "      label.textContent = `Downloading \"${filename}\": `;\n",
              "      div.appendChild(label);\n",
              "      const progress = document.createElement('progress');\n",
              "      progress.max = size;\n",
              "      div.appendChild(progress);\n",
              "      document.body.appendChild(div);\n",
              "\n",
              "      const buffers = [];\n",
              "      let downloaded = 0;\n",
              "\n",
              "      const channel = await google.colab.kernel.comms.open(id);\n",
              "      // Send a message to notify the kernel that we're ready.\n",
              "      channel.send({})\n",
              "\n",
              "      for await (const message of channel.messages) {\n",
              "        // Send a message to notify the kernel that we're ready.\n",
              "        channel.send({})\n",
              "        if (message.buffers) {\n",
              "          for (const buffer of message.buffers) {\n",
              "            buffers.push(buffer);\n",
              "            downloaded += buffer.byteLength;\n",
              "            progress.value = downloaded;\n",
              "          }\n",
              "        }\n",
              "      }\n",
              "      const blob = new Blob(buffers, {type: 'application/binary'});\n",
              "      const a = document.createElement('a');\n",
              "      a.href = window.URL.createObjectURL(blob);\n",
              "      a.download = filename;\n",
              "      div.appendChild(a);\n",
              "      a.click();\n",
              "      div.remove();\n",
              "    }\n",
              "  "
            ]
          },
          "metadata": {}
        },
        {
          "output_type": "display_data",
          "data": {
            "text/plain": [
              "<IPython.core.display.Javascript object>"
            ],
            "application/javascript": [
              "download(\"download_c6c56347-99ba-4c09-8277-97c83f2d7e2f\", \"filename.csv\", 5429)"
            ]
          },
          "metadata": {}
        }
      ]
    },
    {
      "cell_type": "markdown",
      "metadata": {
        "id": "2-x9cubutaVE"
      },
      "source": [
        "### Scraping ctri records"
      ]
    },
    {
      "cell_type": "code",
      "execution_count": null,
      "metadata": {
        "id": "CXcGQUBAtaVF"
      },
      "outputs": [],
      "source": [
        "from requests import get\n",
        "from requests import ConnectionError\n",
        "from bs4 import BeautifulSoup\n",
        "import re\n",
        "from random import randint\n",
        "from IPython.core.display import clear_output\n",
        "from datetime import datetime\n",
        "from datetime import date\n",
        "import csv"
      ]
    },
    {
      "cell_type": "code",
      "execution_count": null,
      "metadata": {
        "id": "1Gln_AWWtaVF"
      },
      "outputs": [],
      "source": [
        "\n",
        "def get_html(id):\n",
        "    url = 'http://ctri.nic.in/Clinicaltrials/pmaindet2.php?trialid={}'.format(id)\n",
        "    response = get(url, verify = False)\n",
        "    html = response.content\n",
        "    soup = BeautifulSoup(html, \"html.parser\")\n",
        "    return soup\n"
      ]
    },
    {
      "cell_type": "code",
      "execution_count": null,
      "metadata": {
        "id": "j8BMVDOTtaVG"
      },
      "outputs": [],
      "source": [
        "def get_tables(html):\n",
        "    tables = html.find_all('table')\n",
        "    table_names = [\n",
        "        'all',\n",
        "        'header',\n",
        "        'cont1',\n",
        "        'ids',\n",
        "        'pi',\n",
        "        'sci_con',\n",
        "        'pub_con',\n",
        "        'mon_sup',\n",
        "        'p_spon',\n",
        "        's_spon',\n",
        "        'sites',\n",
        "        'ethics',\n",
        "        'reg',\n",
        "        'conds',\n",
        "        'ints',\n",
        "        'inc_c',\n",
        "        'ex_c',\n",
        "        'p_out',\n",
        "        's_out'\n",
        "    ]\n",
        "    table_dict = dict(zip(table_names,tables))\n",
        "    return(table_dict)\n",
        "\n",
        "headers = [\n",
        "    'ctri_number',\n",
        "    'registration_date',\n",
        "    'registration_type',\n",
        "    'last_modified',\n",
        "    'post_grad_thesis',\n",
        "    'type_of_trial',\n",
        "    'type_of_study',\n",
        "    'study_design',\n",
        "    'public_title_of_study',\n",
        "    'scientific_title_of_study',\n",
        "    'secondary_id',\n",
        "    'pi_info',\n",
        "    'scientific_contact',\n",
        "    'public_contact',\n",
        "    'sources_of_monetary_or_material_support',\n",
        "    'primary_sponsor',\n",
        "    'secondary_sponsor',\n",
        "    'recruitment_countries',\n",
        "    'number_of_sites',\n",
        "    'study_sites',\n",
        "    'ethics_details',\n",
        "    'dcgi_reg_status',\n",
        "    'conditions_studied',\n",
        "    'intervention',\n",
        "    'inclusion_criteria',\n",
        "    'exclusion_criteria',\n",
        "    'method_rand_seq',\n",
        "    'concealment_method',\n",
        "    'blinding_masking',\n",
        "    'primary_outcomes',\n",
        "    'secondary_outcomes',\n",
        "    'target_sample_size',\n",
        "    'phase',\n",
        "    'date_of_first_enrollment_india',\n",
        "    'date_of_study_completion_india',\n",
        "    'date_of_first_enrollment_global',\n",
        "    'date_of_study_completion_global',\n",
        "    'estimated_duration',\n",
        "    'recruitment_status_global',\n",
        "    'recruitment_status_india',\n",
        "    'publication_details',\n",
        "    'brief_summary'\n",
        "]\n",
        "\n",
        "reg_date = re.compile(r'\\d{2}/\\d{2}/\\d{4}\\b')\n",
        "digits = re.compile(r'\\b\\d{1,3}\\b')"
      ]
    },
    {
      "cell_type": "code",
      "execution_count": null,
      "metadata": {
        "id": "FwiL5jtgtaVH"
      },
      "outputs": [],
      "source": [
        "def strip_chars(text):\n",
        "    return text.replace('\\t',' ').replace('\\n',' ').replace('\\r',' ').replace('\\xa0',' ')"
      ]
    },
    {
      "cell_type": "code",
      "execution_count": null,
      "metadata": {
        "id": "rTZqiV6ztaVH"
      },
      "outputs": [],
      "source": [
        "def reg_type():\n",
        "    c_font = trial_info['cont1'].find_all('font')[0].get_text()\n",
        "    if 'Trial Registered' in c_font:\n",
        "        return c_font\n",
        "    else:\n",
        "        return None"
      ]
    },
    {
      "cell_type": "code",
      "execution_count": null,
      "metadata": {
        "id": "1BlX6WtStaVH"
      },
      "outputs": [],
      "source": [
        "def text_strip(table, index):\n",
        "    tds = trial_info[table].find_all('td')\n",
        "    return strip_chars(tds[index].text.strip())"
      ]
    },
    {
      "cell_type": "code",
      "execution_count": null,
      "metadata": {
        "id": "otlIRudOtaVI"
      },
      "outputs": [],
      "source": [
        "def tables(cols, column_names, tab_name, extra_row = False):\n",
        "    counter = 0\n",
        "    table_contents = []\n",
        "    t = trial_info[tab_name].find_all('td')\n",
        "    tab_values = list(range(cols,len(t)))\n",
        "    rows = list(range(cols,len(t),cols))\n",
        "    if extra_row:\n",
        "        tab_values = list(range(cols+1,len(t)))\n",
        "        rows = list(range(cols+1,len(t),cols))\n",
        "    counter = 0\n",
        "    for row in rows:\n",
        "        d = {}\n",
        "        for name, v in zip(column_names, tab_values[counter:row]):\n",
        "            if t[v].text.strip() == 'NIL' or t[v].text.strip() == None:\n",
        "                d[name] = None\n",
        "            else:\n",
        "                d[name] = strip_chars(t[v].text.strip())\n",
        "        counter += cols\n",
        "        table_contents.append(d)\n",
        "    if len(table_contents) == 1 and (not all(table_contents[0].values())):\n",
        "        return(None)\n",
        "    elif len(table_contents) == 1 and (all(table_contents[0].values())):\n",
        "        return(table_contents[0])\n",
        "    elif len(table_contents) > 1:\n",
        "        return(table_contents)\n",
        "    else:\n",
        "        return(None)"
      ]
    },
    {
      "cell_type": "code",
      "execution_count": null,
      "metadata": {
        "id": "sSQypRyQtaVI"
      },
      "outputs": [],
      "source": [
        "def bare_table(table):\n",
        "    contact_info = {}\n",
        "    for tr in trial_info[table].find_all('tr'):\n",
        "        key = tr.find_all('td')[0].text.strip()\n",
        "        value = strip_chars(tr.find_all('td')[1].text.strip())\n",
        "        contact_info[key.replace(' ','_').lower()] = value\n",
        "    if not all(contact_info.values()):\n",
        "        return None\n",
        "    else:\n",
        "        return contact_info\n"
      ]
    },
    {
      "cell_type": "code",
      "execution_count": null,
      "metadata": {
        "id": "SxPPeJnytaVJ"
      },
      "outputs": [],
      "source": [
        "\n",
        "def countries():\n",
        "    tds = trial_info['cont1'].find_all('td')\n",
        "    index = -1\n",
        "    for td in tds:\n",
        "        index += 1\n",
        "        if td.find(text='Countries of Recruitment'):\n",
        "            i = index\n",
        "            break\n",
        "    locs = list(tds[i+1].stripped_strings)\n",
        "    if len(locs) == 1:\n",
        "        return locs[0]\n",
        "    else:\n",
        "        return locs\n"
      ]
    },
    {
      "cell_type": "code",
      "execution_count": null,
      "metadata": {
        "id": "CQdsv6IztaVJ"
      },
      "outputs": [],
      "source": [
        "def bare_text(field, table, find_index=False):\n",
        "    tds = trial_info[table].find_all('td')\n",
        "    index = -1\n",
        "    for td in tds:\n",
        "        index += 1\n",
        "        if td.find(text = field):\n",
        "            i = index\n",
        "            break\n",
        "    if find_index:\n",
        "        return i\n",
        "    elif not find_index:\n",
        "        return strip_chars(tds[i+1].text.strip())\n"
      ]
    },
    {
      "cell_type": "code",
      "execution_count": null,
      "metadata": {
        "id": "Cq95kuSBtaVK"
      },
      "outputs": [],
      "source": [
        "def list_of_fields(td, v_type=str):\n",
        "    els = list(td.stripped_strings)\n",
        "    clean_els = []\n",
        "    for el in els:\n",
        "        stripped = strip_chars(el.strip().replace('=','').replace('\"','').replace(' ','_').lower())\n",
        "        clean_els.append(stripped)\n",
        "    key_i = list(range(0,len(els),2))\n",
        "    fdict = {}\n",
        "    for i in key_i:\n",
        "        fdict[clean_els[i]] = v_type(clean_els[i+1])\n",
        "    return fdict\n",
        "\n"
      ]
    },
    {
      "cell_type": "code",
      "execution_count": null,
      "metadata": {
        "id": "0EPXUQnhtaVK"
      },
      "outputs": [],
      "source": [
        "def make_date(date):\n",
        "    if date == \"Date Missing\" or not date:\n",
        "        return None\n",
        "    elif 'Applicable only for' in date:\n",
        "        return 'Not Applicable'\n",
        "    else:\n",
        "        return datetime.strptime(date,'%d/%m/%Y').date()\n"
      ]
    },
    {
      "cell_type": "code",
      "execution_count": null,
      "metadata": {
        "id": "xVFRsjNqtaVK"
      },
      "outputs": [],
      "source": [
        "def myconverter(o):\n",
        "    if isinstance(o, date):\n",
        "        return o.__str__()\n",
        "\n",
        "def make_dict():\n",
        "    trial_dict = {}\n",
        "    trial_dict['ctri_number'] = trial_info['cont1'].find_all('b')[1].text.strip()\n",
        "    trial_dict['registration_date'] = reg_date.findall(str(trial_info['cont1']))[0]\n",
        "    trial_dict['registration_type'] = reg_type()\n",
        "    trial_dict['last_modified'] = text_strip('cont1',3)\n",
        "    trial_dict['post_grad_thesis'] = text_strip('cont1',5)\n",
        "    trial_dict['type_of_trial'] = text_strip('cont1',7)\n",
        "    trial_dict['type_of_study'] = text_strip('cont1',9)\n",
        "    trial_dict['study_design'] = text_strip('cont1',11)\n",
        "    trial_dict['public_title_of_study'] = text_strip('cont1',13)\n",
        "    trial_dict['scientific_title_of_study'] = text_strip('cont1',15)\n",
        "    id_names = ['id', 'identifier_type']\n",
        "    trial_dict['secondary_id'] = tables(2, id_names, 'ids')\n",
        "    trial_dict['pi_info'] = bare_table('pi')\n",
        "    trial_dict['scientific_contact'] = bare_table('sci_con')\n",
        "    trial_dict['public_contact'] = bare_table('pub_con')\n",
        "    trial_dict['sources_of_monetary_or_material_support'] = text_strip('mon_sup', 0)\n",
        "    trial_dict['primary_sponsor'] = bare_table('p_spon')\n",
        "    spon_cols = ['name', 'address']\n",
        "    trial_dict['secondary_sponsor'] = tables(2, spon_cols, 's_spon')\n",
        "    trial_dict['recruitment_countries'] = countries()\n",
        "    trial_dict['number_of_sites'] = int(digits.findall(trial_info['sites'].td.text.strip())[0])\n",
        "    sites_cols = ['pi', 'site_name', 'site_address', 'site_contact']\n",
        "    trial_dict['study_sites'] = tables(4,sites_cols,'sites',extra_row = True)\n",
        "    ethics_cols = ['committee', 'status']\n",
        "    trial_dict['ethics_details'] = tables(2,ethics_cols,'ethics',extra_row = True)\n",
        "    trial_dict['dcgi_reg_status'] = trial_info['reg'].find_all('td')[1].text.strip()\n",
        "    cond_cols = ['health_type','conditions']\n",
        "    trial_dict['conditions_studied'] = tables(2,cond_cols,'conds')\n",
        "    int_cols = ['type', 'name', 'details']\n",
        "    trial_dict['intervention'] = tables(3, int_cols, 'ints')\n",
        "    trial_dict['inclusion_criteria'] = bare_table('inc_c')\n",
        "    trial_dict['exclusion_criteria'] = trial_info['ex_c'].find_all('td')[1].text.strip()\n",
        "    trial_dict['method_rand_seq'] = bare_text('Method of Generating Random Sequence', 'cont1')\n",
        "    trial_dict['concealment_method'] = bare_text('Method of Concealment', 'cont1')\n",
        "    trial_dict['blinding_masking'] = bare_text('Blinding/Masking', 'cont1')\n",
        "    outcome_cols = ['outcomes', 'timepoint']\n",
        "    trial_dict['primary_outcomes'] = tables(2,outcome_cols,'p_out')\n",
        "    trial_dict['secondary_outcomes'] = tables(2,outcome_cols,'s_out')\n",
        "    enrollment = trial_info['cont1'].find_all('td')[-1]\n",
        "    trial_dict['target_sample_size'] = list_of_fields(enrollment)\n",
        "    trial_dict['phase'] = bare_text('Phase of Trial','all')\n",
        "    trial_dict['date_of_first_enrollment_india'] = make_date(bare_text('Date of First Enrollment (India)','all'))\n",
        "    trial_dict['date_of_study_completion_india'] = make_date(bare_text('Date of Study Completion (India)','all'))\n",
        "    trial_dict['date_of_first_enrollment_global'] = make_date(bare_text('Date of First Enrollment (Global)','all'))\n",
        "    trial_dict['date_of_study_completion_global'] = make_date(bare_text('Date of Study Completion (Global)','all'))\n",
        "    duration_index = bare_text('Estimated Duration of Trial', 'all', find_index=True)\n",
        "    duration = trial_info['all'].find_all('td')[duration_index+1]\n",
        "    trial_dict['estimated_duration'] = list_of_fields(duration, v_type=int)\n",
        "    trial_dict['recruitment_status_global'] = bare_text('Recruitment Status of Trial (Global)', 'all')\n",
        "    trial_dict['recruitment_status_india'] = bare_text('Recruitment Status of Trial (India)', 'all')\n",
        "    trial_dict['publication_details'] = bare_text('Publication Details', 'all')\n",
        "    trial_dict['brief_summary'] = bare_text('Brief Summary','all')\n",
        "    return trial_dict\n",
        "\n"
      ]
    },
    {
      "cell_type": "code",
      "execution_count": null,
      "metadata": {
        "id": "mEqv2F1ktaVM",
        "outputId": "12f781e8-5ab4-42d8-d8fa-47072bd37823",
        "colab": {
          "base_uri": "https://localhost:8080/"
        }
      },
      "outputs": [
        {
          "output_type": "stream",
          "name": "stdout",
          "text": [
            "Current Trial: 8 Trials Written 6 Trials Invalid\n"
          ]
        }
      ],
      "source": [
        "request = 0\n",
        "last_trial_id = 33917 #as of 19 May 2019\n",
        "pages = [str(i) for i in range(1,(last_trial_id+1))]\n",
        "requests = 0\n",
        "skipped = 0\n",
        "written = 0\n",
        "trial_list = []\n",
        "test_pages = [str(i) for i in range(1,11)]\n",
        "\n",
        "with open('ctri_trials.csv', 'w', newline='', encoding='utf-8') as ctri_csv:\n",
        "    writer = csv.DictWriter(ctri_csv, fieldnames=headers)\n",
        "    writer.writeheader()\n",
        "    for page in test_pages:\n",
        "        request +=1\n",
        "        soup = get_html(page)\n",
        "        trial_info = get_tables(soup)\n",
        "        last_td = soup.find_all('td')[-1].text\n",
        "        if 'Invalid Request!!!' in last_td:\n",
        "            skipped += 1\n",
        "            continue\n",
        "        else:\n",
        "            t_dict = make_dict()\n",
        "            written += 1\n",
        "            writer.writerow(t_dict)\n",
        "        print('Current Trial: {} Trials Written {} Trials Invalid'.format(page, written, skipped))\n",
        "        clear_output(wait = True)\n"
      ]
    },
    {
      "cell_type": "code",
      "execution_count": null,
      "metadata": {
        "id": "d-7yE5rmI1JW",
        "colab": {
          "base_uri": "https://localhost:8080/",
          "height": 17
        },
        "outputId": "6d594be7-7046-418d-dc86-c8b15bf54e9c"
      },
      "outputs": [
        {
          "output_type": "display_data",
          "data": {
            "text/plain": [
              "<IPython.core.display.Javascript object>"
            ],
            "application/javascript": [
              "\n",
              "    async function download(id, filename, size) {\n",
              "      if (!google.colab.kernel.accessAllowed) {\n",
              "        return;\n",
              "      }\n",
              "      const div = document.createElement('div');\n",
              "      const label = document.createElement('label');\n",
              "      label.textContent = `Downloading \"${filename}\": `;\n",
              "      div.appendChild(label);\n",
              "      const progress = document.createElement('progress');\n",
              "      progress.max = size;\n",
              "      div.appendChild(progress);\n",
              "      document.body.appendChild(div);\n",
              "\n",
              "      const buffers = [];\n",
              "      let downloaded = 0;\n",
              "\n",
              "      const channel = await google.colab.kernel.comms.open(id);\n",
              "      // Send a message to notify the kernel that we're ready.\n",
              "      channel.send({})\n",
              "\n",
              "      for await (const message of channel.messages) {\n",
              "        // Send a message to notify the kernel that we're ready.\n",
              "        channel.send({})\n",
              "        if (message.buffers) {\n",
              "          for (const buffer of message.buffers) {\n",
              "            buffers.push(buffer);\n",
              "            downloaded += buffer.byteLength;\n",
              "            progress.value = downloaded;\n",
              "          }\n",
              "        }\n",
              "      }\n",
              "      const blob = new Blob(buffers, {type: 'application/binary'});\n",
              "      const a = document.createElement('a');\n",
              "      a.href = window.URL.createObjectURL(blob);\n",
              "      a.download = filename;\n",
              "      div.appendChild(a);\n",
              "      a.click();\n",
              "      div.remove();\n",
              "    }\n",
              "  "
            ]
          },
          "metadata": {}
        },
        {
          "output_type": "display_data",
          "data": {
            "text/plain": [
              "<IPython.core.display.Javascript object>"
            ],
            "application/javascript": [
              "download(\"download_67ec5e76-ca05-41f6-bc6e-4d77b8015606\", \"ctri_trials.csv\", 23357)"
            ]
          },
          "metadata": {}
        }
      ],
      "source": [
        "from google.colab import files\n",
        "files.download('ctri_trials.csv')"
      ]
    },
    {
      "cell_type": "code",
      "execution_count": null,
      "metadata": {
        "id": "1GMr9y25taVN"
      },
      "outputs": [],
      "source": []
    },
    {
      "cell_type": "code",
      "execution_count": null,
      "metadata": {
        "id": "3Ux5Q8kttaVN"
      },
      "outputs": [],
      "source": []
    }
  ],
  "metadata": {
    "kernelspec": {
      "display_name": "Python 3",
      "language": "python",
      "name": "python3"
    },
    "language_info": {
      "codemirror_mode": {
        "name": "ipython",
        "version": 3
      },
      "file_extension": ".py",
      "mimetype": "text/x-python",
      "name": "python",
      "nbconvert_exporter": "python",
      "pygments_lexer": "ipython3",
      "version": "3.7.4"
    },
    "colab": {
      "provenance": [],
      "collapsed_sections": [
        "T0e__YIQtaVA",
        "FXIC3mfutaU9",
        "Pl1LIzXEtaUv",
        "DW3otU2RtaU4",
        "iv_on86dtaU5",
        "i6VIYE_7taU7",
        "2-x9cubutaVE"
      ]
    }
  },
  "nbformat": 4,
  "nbformat_minor": 0
}