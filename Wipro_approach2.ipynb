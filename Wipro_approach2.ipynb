{
  "nbformat": 4,
  "nbformat_minor": 0,
  "metadata": {
    "colab": {
      "provenance": [],
      "collapsed_sections": [
        "1o5OfOfWXrW6"
      ]
    },
    "kernelspec": {
      "name": "python3",
      "display_name": "Python 3"
    },
    "language_info": {
      "name": "python"
    },
    "widgets": {
      "application/vnd.jupyter.widget-state+json": {
        "878192e808a749b48b993d16c4a8a650": {
          "model_module": "@jupyter-widgets/controls",
          "model_name": "HBoxModel",
          "model_module_version": "1.5.0",
          "state": {
            "_dom_classes": [],
            "_model_module": "@jupyter-widgets/controls",
            "_model_module_version": "1.5.0",
            "_model_name": "HBoxModel",
            "_view_count": null,
            "_view_module": "@jupyter-widgets/controls",
            "_view_module_version": "1.5.0",
            "_view_name": "HBoxView",
            "box_style": "",
            "children": [
              "IPY_MODEL_0667bcc5ec354c419bc0638ebbd8b45d",
              "IPY_MODEL_0882d304e5f647cd8db438593249ee30",
              "IPY_MODEL_2aa550f437864819a7b99f97b5fb9f63"
            ],
            "layout": "IPY_MODEL_8e67d152a9554324b1602348d9694f46"
          }
        },
        "0667bcc5ec354c419bc0638ebbd8b45d": {
          "model_module": "@jupyter-widgets/controls",
          "model_name": "HTMLModel",
          "model_module_version": "1.5.0",
          "state": {
            "_dom_classes": [],
            "_model_module": "@jupyter-widgets/controls",
            "_model_module_version": "1.5.0",
            "_model_name": "HTMLModel",
            "_view_count": null,
            "_view_module": "@jupyter-widgets/controls",
            "_view_module_version": "1.5.0",
            "_view_name": "HTMLView",
            "description": "",
            "description_tooltip": null,
            "layout": "IPY_MODEL_795c404a1de748f0bbc847aa36dab63b",
            "placeholder": "​",
            "style": "IPY_MODEL_6680e858e84b41b1a4ee0ec210813fa9",
            "value": "parsing log, completed traces :: 100%"
          }
        },
        "0882d304e5f647cd8db438593249ee30": {
          "model_module": "@jupyter-widgets/controls",
          "model_name": "FloatProgressModel",
          "model_module_version": "1.5.0",
          "state": {
            "_dom_classes": [],
            "_model_module": "@jupyter-widgets/controls",
            "_model_module_version": "1.5.0",
            "_model_name": "FloatProgressModel",
            "_view_count": null,
            "_view_module": "@jupyter-widgets/controls",
            "_view_module_version": "1.5.0",
            "_view_name": "ProgressView",
            "bar_style": "success",
            "description": "",
            "description_tooltip": null,
            "layout": "IPY_MODEL_3aa859d22bb840d4b90b1b5a4e3ad42d",
            "max": 7065,
            "min": 0,
            "orientation": "horizontal",
            "style": "IPY_MODEL_26c025757dc04590971868df9d91fe34",
            "value": 7065
          }
        },
        "2aa550f437864819a7b99f97b5fb9f63": {
          "model_module": "@jupyter-widgets/controls",
          "model_name": "HTMLModel",
          "model_module_version": "1.5.0",
          "state": {
            "_dom_classes": [],
            "_model_module": "@jupyter-widgets/controls",
            "_model_module_version": "1.5.0",
            "_model_name": "HTMLModel",
            "_view_count": null,
            "_view_module": "@jupyter-widgets/controls",
            "_view_module_version": "1.5.0",
            "_view_name": "HTMLView",
            "description": "",
            "description_tooltip": null,
            "layout": "IPY_MODEL_1c616622f7dd428c8f6829a60e3b10fa",
            "placeholder": "​",
            "style": "IPY_MODEL_87149f009b664b8eba23c144d0bf19bd",
            "value": " 7065/7065 [00:05&lt;00:00, 1216.55it/s]"
          }
        },
        "8e67d152a9554324b1602348d9694f46": {
          "model_module": "@jupyter-widgets/base",
          "model_name": "LayoutModel",
          "model_module_version": "1.2.0",
          "state": {
            "_model_module": "@jupyter-widgets/base",
            "_model_module_version": "1.2.0",
            "_model_name": "LayoutModel",
            "_view_count": null,
            "_view_module": "@jupyter-widgets/base",
            "_view_module_version": "1.2.0",
            "_view_name": "LayoutView",
            "align_content": null,
            "align_items": null,
            "align_self": null,
            "border": null,
            "bottom": null,
            "display": null,
            "flex": null,
            "flex_flow": null,
            "grid_area": null,
            "grid_auto_columns": null,
            "grid_auto_flow": null,
            "grid_auto_rows": null,
            "grid_column": null,
            "grid_gap": null,
            "grid_row": null,
            "grid_template_areas": null,
            "grid_template_columns": null,
            "grid_template_rows": null,
            "height": null,
            "justify_content": null,
            "justify_items": null,
            "left": null,
            "margin": null,
            "max_height": null,
            "max_width": null,
            "min_height": null,
            "min_width": null,
            "object_fit": null,
            "object_position": null,
            "order": null,
            "overflow": null,
            "overflow_x": null,
            "overflow_y": null,
            "padding": null,
            "right": null,
            "top": null,
            "visibility": null,
            "width": null
          }
        },
        "795c404a1de748f0bbc847aa36dab63b": {
          "model_module": "@jupyter-widgets/base",
          "model_name": "LayoutModel",
          "model_module_version": "1.2.0",
          "state": {
            "_model_module": "@jupyter-widgets/base",
            "_model_module_version": "1.2.0",
            "_model_name": "LayoutModel",
            "_view_count": null,
            "_view_module": "@jupyter-widgets/base",
            "_view_module_version": "1.2.0",
            "_view_name": "LayoutView",
            "align_content": null,
            "align_items": null,
            "align_self": null,
            "border": null,
            "bottom": null,
            "display": null,
            "flex": null,
            "flex_flow": null,
            "grid_area": null,
            "grid_auto_columns": null,
            "grid_auto_flow": null,
            "grid_auto_rows": null,
            "grid_column": null,
            "grid_gap": null,
            "grid_row": null,
            "grid_template_areas": null,
            "grid_template_columns": null,
            "grid_template_rows": null,
            "height": null,
            "justify_content": null,
            "justify_items": null,
            "left": null,
            "margin": null,
            "max_height": null,
            "max_width": null,
            "min_height": null,
            "min_width": null,
            "object_fit": null,
            "object_position": null,
            "order": null,
            "overflow": null,
            "overflow_x": null,
            "overflow_y": null,
            "padding": null,
            "right": null,
            "top": null,
            "visibility": null,
            "width": null
          }
        },
        "6680e858e84b41b1a4ee0ec210813fa9": {
          "model_module": "@jupyter-widgets/controls",
          "model_name": "DescriptionStyleModel",
          "model_module_version": "1.5.0",
          "state": {
            "_model_module": "@jupyter-widgets/controls",
            "_model_module_version": "1.5.0",
            "_model_name": "DescriptionStyleModel",
            "_view_count": null,
            "_view_module": "@jupyter-widgets/base",
            "_view_module_version": "1.2.0",
            "_view_name": "StyleView",
            "description_width": ""
          }
        },
        "3aa859d22bb840d4b90b1b5a4e3ad42d": {
          "model_module": "@jupyter-widgets/base",
          "model_name": "LayoutModel",
          "model_module_version": "1.2.0",
          "state": {
            "_model_module": "@jupyter-widgets/base",
            "_model_module_version": "1.2.0",
            "_model_name": "LayoutModel",
            "_view_count": null,
            "_view_module": "@jupyter-widgets/base",
            "_view_module_version": "1.2.0",
            "_view_name": "LayoutView",
            "align_content": null,
            "align_items": null,
            "align_self": null,
            "border": null,
            "bottom": null,
            "display": null,
            "flex": null,
            "flex_flow": null,
            "grid_area": null,
            "grid_auto_columns": null,
            "grid_auto_flow": null,
            "grid_auto_rows": null,
            "grid_column": null,
            "grid_gap": null,
            "grid_row": null,
            "grid_template_areas": null,
            "grid_template_columns": null,
            "grid_template_rows": null,
            "height": null,
            "justify_content": null,
            "justify_items": null,
            "left": null,
            "margin": null,
            "max_height": null,
            "max_width": null,
            "min_height": null,
            "min_width": null,
            "object_fit": null,
            "object_position": null,
            "order": null,
            "overflow": null,
            "overflow_x": null,
            "overflow_y": null,
            "padding": null,
            "right": null,
            "top": null,
            "visibility": null,
            "width": null
          }
        },
        "26c025757dc04590971868df9d91fe34": {
          "model_module": "@jupyter-widgets/controls",
          "model_name": "ProgressStyleModel",
          "model_module_version": "1.5.0",
          "state": {
            "_model_module": "@jupyter-widgets/controls",
            "_model_module_version": "1.5.0",
            "_model_name": "ProgressStyleModel",
            "_view_count": null,
            "_view_module": "@jupyter-widgets/base",
            "_view_module_version": "1.2.0",
            "_view_name": "StyleView",
            "bar_color": null,
            "description_width": ""
          }
        },
        "1c616622f7dd428c8f6829a60e3b10fa": {
          "model_module": "@jupyter-widgets/base",
          "model_name": "LayoutModel",
          "model_module_version": "1.2.0",
          "state": {
            "_model_module": "@jupyter-widgets/base",
            "_model_module_version": "1.2.0",
            "_model_name": "LayoutModel",
            "_view_count": null,
            "_view_module": "@jupyter-widgets/base",
            "_view_module_version": "1.2.0",
            "_view_name": "LayoutView",
            "align_content": null,
            "align_items": null,
            "align_self": null,
            "border": null,
            "bottom": null,
            "display": null,
            "flex": null,
            "flex_flow": null,
            "grid_area": null,
            "grid_auto_columns": null,
            "grid_auto_flow": null,
            "grid_auto_rows": null,
            "grid_column": null,
            "grid_gap": null,
            "grid_row": null,
            "grid_template_areas": null,
            "grid_template_columns": null,
            "grid_template_rows": null,
            "height": null,
            "justify_content": null,
            "justify_items": null,
            "left": null,
            "margin": null,
            "max_height": null,
            "max_width": null,
            "min_height": null,
            "min_width": null,
            "object_fit": null,
            "object_position": null,
            "order": null,
            "overflow": null,
            "overflow_x": null,
            "overflow_y": null,
            "padding": null,
            "right": null,
            "top": null,
            "visibility": null,
            "width": null
          }
        },
        "87149f009b664b8eba23c144d0bf19bd": {
          "model_module": "@jupyter-widgets/controls",
          "model_name": "DescriptionStyleModel",
          "model_module_version": "1.5.0",
          "state": {
            "_model_module": "@jupyter-widgets/controls",
            "_model_module_version": "1.5.0",
            "_model_name": "DescriptionStyleModel",
            "_view_count": null,
            "_view_module": "@jupyter-widgets/base",
            "_view_module_version": "1.2.0",
            "_view_name": "StyleView",
            "description_width": ""
          }
        }
      }
    }
  },
  "cells": [
    {
      "cell_type": "code",
      "execution_count": null,
      "metadata": {
        "colab": {
          "resources": {
            "http://localhost:8080/nbextensions/google.colab/files.js": {
              "data": "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",
              "ok": true,
              "headers": [
                [
                  "content-type",
                  "application/javascript"
                ]
              ],
              "status": 200,
              "status_text": ""
            }
          },
          "base_uri": "https://localhost:8080/",
          "height": 73
        },
        "id": "5pr9KPs30BTf",
        "outputId": "326500b2-2e7f-432d-f1dc-91c15cf60a11"
      },
      "outputs": [
        {
          "output_type": "display_data",
          "data": {
            "text/plain": [
              "<IPython.core.display.HTML object>"
            ],
            "text/html": [
              "\n",
              "     <input type=\"file\" id=\"files-bc24b59e-57ba-472c-8a95-463a31d17dcb\" name=\"files[]\" multiple disabled\n",
              "        style=\"border:none\" />\n",
              "     <output id=\"result-bc24b59e-57ba-472c-8a95-463a31d17dcb\">\n",
              "      Upload widget is only available when the cell has been executed in the\n",
              "      current browser session. Please rerun this cell to enable.\n",
              "      </output>\n",
              "      <script src=\"/nbextensions/google.colab/files.js\"></script> "
            ]
          },
          "metadata": {}
        },
        {
          "output_type": "stream",
          "name": "stdout",
          "text": [
            "Saving PrepaidTravelCost.xes to PrepaidTravelCost.xes\n"
          ]
        }
      ],
      "source": [
        "from google.colab import files\n",
        "\n",
        "uploaded = files.upload()"
      ]
    },
    {
      "cell_type": "markdown",
      "source": [
        "#Approach 1"
      ],
      "metadata": {
        "id": "A2mVfAGcXBfi"
      }
    },
    {
      "cell_type": "code",
      "source": [
        "#IMPORTING LIBRARIES\n",
        "import xml.etree.cElementTree as tree\n",
        "import gzip\n",
        "from os.path import abspath, join, isfile, dirname\n",
        "from os import listdir\n",
        "import time\n",
        "import pandas as pd"
      ],
      "metadata": {
        "id": "MDDMWRPV0pIC"
      },
      "execution_count": null,
      "outputs": []
    },
    {
      "cell_type": "code",
      "source": [
        "# my classes -not used currently:\n",
        "#!pip install table\n",
        "import table as t\n",
        "#!pip install loadToDB\n",
        "#import loadToDB as load\n",
        "\n",
        "to_excel = 0\n",
        "to_csv = 1\n",
        "log_to_file = 1"
      ],
      "metadata": {
        "id": "-8CJqU7M0E3M"
      },
      "execution_count": null,
      "outputs": []
    },
    {
      "cell_type": "code",
      "source": [
        "\n",
        "\"\"\"get specific type of files\"\"\"\n",
        "#Check wheather file exist and ends with gz\n",
        "def getFileListForType(fileType):\n",
        "    path = abspath(dirname(__file__))\n",
        "    return [f for f in listdir(path) if isfile(join(path,f)) and f.endswith(fileType) ]\n",
        "\n",
        "def toLog(message,enable=log_to_file,before=''):\n",
        "    if enable == 1:\n",
        "        with open('logs.txt','a+') as log:\n",
        "            log.write(before + time.strftime('%Y:%m:%d %H:%M:%S') + ' || '+ message + '\\n')"
      ],
      "metadata": {
        "id": "xC8a_gv_0E_K"
      },
      "execution_count": null,
      "outputs": []
    },
    {
      "cell_type": "code",
      "source": [
        "\"\"\"open gzfile and save it\"\"\"\n",
        "def openAndSavegzFiles():\n",
        "    #gzFileList = getFileListForType(\".gz\")\n",
        "    toLog('Found '+str(len(gzFileList))+' .gz files and try to unpack')\n",
        "    for gzFile in gzFileList:\n",
        "        with gzip.open(gzFile, \"rb\") as sourceFile:\n",
        "\n",
        "            start_time = time.time()\n",
        "            data = sourceFile.read()\n",
        "            print(\"Reading data: \", str(time.time() - start_time))\n",
        "\n",
        "            with open(gzFile[0:-4], 'wb') as targetFile: #assume that end of the file is \"_.gz\"\n",
        "                targetFile.write(data)\n",
        "        toLog('.gz files unpacked.')\n",
        "\n",
        "def insertDataBase(table,values):\n",
        "    pass\n",
        "\n",
        "def saveInsertToDataBase(targetFile):\n",
        "    pass\n",
        "\n",
        "def createTableDataBase(table,fields):\n",
        "    pass\n",
        "\n",
        "def connectToDatabase(query):\n",
        "    pass\n"
      ],
      "metadata": {
        "id": "2m_HKrTO0FDc"
      },
      "execution_count": null,
      "outputs": []
    },
    {
      "cell_type": "code",
      "source": [
        "####MAIN####\n",
        "toLog('New run started',before='\\n\\n')\n",
        "#unpack .gz files in current folder\n",
        "#openAndSavegzFiles()\n",
        "\n",
        "#open and parse xml\n",
        "#xesFiles = getFileListForType('.xes')\n",
        "\n",
        "for xesFile in xesFiles:\n",
        "    toLog(xesFile+ ' - start')\n",
        "    file_time = time.time()\n",
        "    with open(xesFile, \"r+\") as currentFile:\n",
        "\n",
        "        #parse xml\n",
        "        start_time = time.time()\n",
        "        xmlTree = tree.parse(currentFile)\n",
        "        root = xmlTree.getroot()\n",
        "\n",
        "        endTime = xesFile+ \" - parsing time: \"+ str(time.time() - start_time)\n",
        "        print(endTime)\n",
        "        toLog(endTime)\n",
        "\n",
        "        #traverse xml\n",
        "        start_time = time.time()\n",
        "        caselog = pd.DataFrame()\n",
        "        eventlog = pd.DataFrame()\n",
        "\n",
        "        #get file names\n",
        "        for field in root:\n",
        "            if field.attrib.get('key') == \"concept:name\":\n",
        "                inFileName = field.attrib.get('value')\n",
        "\n",
        "        uniqueKey = 0\n",
        "        eventCount = 0\n",
        "        for case in root: #go to case level\n",
        "            if case.tag == 'trace':\n",
        "                uniqueKey += 1\n",
        "                caselog.at[uniqueKey,'ID'] = uniqueKey\n",
        "                caselog.at[uniqueKey,'fileName'] = inFileName\n",
        "                caselog.at[uniqueKey,'fullFileName'] = xesFile\n",
        "\n",
        "                for field in case:\n",
        "                    if field.attrib:\n",
        "                        caselog.at[uniqueKey,field.attrib['key'].replace(':',\"_\")] = field.attrib['value']\n",
        "\n",
        "                # get events\n",
        "                for event in case: #go to event level\n",
        "                    if event.tag == 'event':\n",
        "                        eventCount += 1\n",
        "                        eventlog.at[eventCount,'ID'] = uniqueKey\n",
        "                        for field in event:\n",
        "                            if field.attrib:\n",
        "                                eventlog.at[eventCount,field.attrib['key'].replace(':',\"_\")] = field.attrib['value']\n",
        "\n",
        "        endTime = xesFile+ \" - traverse time: \"+ str(time.time() - start_time)\n",
        "        print(endTime)\n",
        "        toLog(endTime)\n",
        "\n",
        "        #save to files\n",
        "        start_time = time.time()\n",
        "        fileName = inFileName.replace(' ','')+\"{}.{}\"\n",
        "        #save to csv\n",
        "        if to_csv == 1:\n",
        "            eventlog.to_csv(path_or_buf= fileName.format('_eventlog','csv'),sep=';',index=False)\n",
        "            toLog(xesFile +'- eventlog saved to '+fileName.format('_eventlog','csv'))\n",
        "            caselog.to_csv(path_or_buf= fileName.format('_caselog','csv'),sep=';',index=False)\n",
        "            toLog(xesFile +'- caselog saved to '+fileName.format('_caselog','csv'))\n",
        "\n",
        "        #save to excel\n",
        "        if to_excel == 1:\n",
        "            caselog.to_excel(excel_writer= fileName.format('','xlsx'),sheet_name='caselog',index=False)\n",
        "            with pd.ExcelWriter(path=fileName.format('','xlsx'), mode='a') as writer:\n",
        "                eventlog.to_excel(excel_writer=writer,sheet_name='eventlog',index=False)\n",
        "            toLog(xesFile +'- caselog&eventlog saved to '+fileName.format('','xlsx'))\n",
        "\n",
        "        endTime = xesFile+ \" - saving time: \"+ str(time.time() - start_time)\n",
        "        print(endTime)\n",
        "        toLog(endTime)"
      ],
      "metadata": {
        "id": "HGlNWAb60FHe",
        "colab": {
          "base_uri": "https://localhost:8080/",
          "height": 356
        },
        "outputId": "a730e41b-9391-4f2c-fc52-700c6f32cb84"
      },
      "execution_count": null,
      "outputs": [
        {
          "output_type": "error",
          "ename": "NameError",
          "evalue": "ignored",
          "traceback": [
            "\u001b[0;31m---------------------------------------------------------------------------\u001b[0m",
            "\u001b[0;31mNameError\u001b[0m                                 Traceback (most recent call last)",
            "\u001b[0;32m<ipython-input-57-7680124ee716>\u001b[0m in \u001b[0;36m<module>\u001b[0;34m()\u001b[0m\n\u001b[1;32m      2\u001b[0m \u001b[0mtoLog\u001b[0m\u001b[0;34m(\u001b[0m\u001b[0;34m'New run started'\u001b[0m\u001b[0;34m,\u001b[0m\u001b[0mbefore\u001b[0m\u001b[0;34m=\u001b[0m\u001b[0;34m'\\n\\n'\u001b[0m\u001b[0;34m)\u001b[0m\u001b[0;34m\u001b[0m\u001b[0;34m\u001b[0m\u001b[0m\n\u001b[1;32m      3\u001b[0m \u001b[0;31m#unpack .gz files in current folder\u001b[0m\u001b[0;34m\u001b[0m\u001b[0;34m\u001b[0m\u001b[0;34m\u001b[0m\u001b[0m\n\u001b[0;32m----> 4\u001b[0;31m \u001b[0mopenAndSavegzFiles\u001b[0m\u001b[0;34m(\u001b[0m\u001b[0;34m)\u001b[0m\u001b[0;34m\u001b[0m\u001b[0;34m\u001b[0m\u001b[0m\n\u001b[0m\u001b[1;32m      5\u001b[0m \u001b[0;34m\u001b[0m\u001b[0m\n\u001b[1;32m      6\u001b[0m \u001b[0;31m#open and parse xml\u001b[0m\u001b[0;34m\u001b[0m\u001b[0;34m\u001b[0m\u001b[0;34m\u001b[0m\u001b[0m\n",
            "\u001b[0;32m<ipython-input-56-2e0cfd48bfe7>\u001b[0m in \u001b[0;36mopenAndSavegzFiles\u001b[0;34m()\u001b[0m\n\u001b[1;32m      2\u001b[0m \u001b[0;32mdef\u001b[0m \u001b[0mopenAndSavegzFiles\u001b[0m\u001b[0;34m(\u001b[0m\u001b[0;34m)\u001b[0m\u001b[0;34m:\u001b[0m\u001b[0;34m\u001b[0m\u001b[0;34m\u001b[0m\u001b[0m\n\u001b[1;32m      3\u001b[0m     \u001b[0;31m#gzFileList = getFileListForType(\".gz\")\u001b[0m\u001b[0;34m\u001b[0m\u001b[0;34m\u001b[0m\u001b[0;34m\u001b[0m\u001b[0m\n\u001b[0;32m----> 4\u001b[0;31m     \u001b[0mtoLog\u001b[0m\u001b[0;34m(\u001b[0m\u001b[0;34m'Found '\u001b[0m\u001b[0;34m+\u001b[0m\u001b[0mstr\u001b[0m\u001b[0;34m(\u001b[0m\u001b[0mlen\u001b[0m\u001b[0;34m(\u001b[0m\u001b[0mgzFileList\u001b[0m\u001b[0;34m)\u001b[0m\u001b[0;34m)\u001b[0m\u001b[0;34m+\u001b[0m\u001b[0;34m' .gz files and try to unpack'\u001b[0m\u001b[0;34m)\u001b[0m\u001b[0;34m\u001b[0m\u001b[0;34m\u001b[0m\u001b[0m\n\u001b[0m\u001b[1;32m      5\u001b[0m     \u001b[0;32mfor\u001b[0m \u001b[0mgzFile\u001b[0m \u001b[0;32min\u001b[0m \u001b[0mgzFileList\u001b[0m\u001b[0;34m:\u001b[0m\u001b[0;34m\u001b[0m\u001b[0;34m\u001b[0m\u001b[0m\n\u001b[1;32m      6\u001b[0m         \u001b[0;32mwith\u001b[0m \u001b[0mgzip\u001b[0m\u001b[0;34m.\u001b[0m\u001b[0mopen\u001b[0m\u001b[0;34m(\u001b[0m\u001b[0mgzFile\u001b[0m\u001b[0;34m,\u001b[0m \u001b[0;34m\"rb\"\u001b[0m\u001b[0;34m)\u001b[0m \u001b[0;32mas\u001b[0m \u001b[0msourceFile\u001b[0m\u001b[0;34m:\u001b[0m\u001b[0;34m\u001b[0m\u001b[0;34m\u001b[0m\u001b[0m\n",
            "\u001b[0;31mNameError\u001b[0m: name 'gzFileList' is not defined"
          ]
        }
      ]
    },
    {
      "cell_type": "code",
      "source": [],
      "metadata": {
        "id": "ToU4wPQFhKK9"
      },
      "execution_count": null,
      "outputs": []
    },
    {
      "cell_type": "code",
      "source": [],
      "metadata": {
        "id": "2uuupDbKhKrN"
      },
      "execution_count": null,
      "outputs": []
    },
    {
      "cell_type": "code",
      "source": [],
      "metadata": {
        "id": "nOkBD2ElhKx3"
      },
      "execution_count": null,
      "outputs": []
    },
    {
      "cell_type": "code",
      "source": [],
      "metadata": {
        "id": "6BFEd8hYhK37"
      },
      "execution_count": null,
      "outputs": []
    },
    {
      "cell_type": "code",
      "source": [],
      "metadata": {
        "id": "14fLwTMZhK-l"
      },
      "execution_count": null,
      "outputs": []
    },
    {
      "cell_type": "markdown",
      "source": [
        "#Approach 2"
      ],
      "metadata": {
        "id": "1o5OfOfWXrW6"
      }
    },
    {
      "cell_type": "code",
      "source": [
        "!pip install pm4py"
      ],
      "metadata": {
        "colab": {
          "base_uri": "https://localhost:8080/"
        },
        "id": "LtS1wH2MYw85",
        "outputId": "98266e8d-b4ab-4a44-c55c-7b3232550589"
      },
      "execution_count": null,
      "outputs": [
        {
          "output_type": "stream",
          "name": "stdout",
          "text": [
            "Collecting pm4py\n",
            "  Downloading pm4py-2.2.21-py3-none-any.whl (1.8 MB)\n",
            "\u001b[?25l\r\u001b[K     |▏                               | 10 kB 25.5 MB/s eta 0:00:01\r\u001b[K     |▍                               | 20 kB 31.9 MB/s eta 0:00:01\r\u001b[K     |▌                               | 30 kB 36.0 MB/s eta 0:00:01\r\u001b[K     |▊                               | 40 kB 30.8 MB/s eta 0:00:01\r\u001b[K     |█                               | 51 kB 21.3 MB/s eta 0:00:01\r\u001b[K     |█                               | 61 kB 23.6 MB/s eta 0:00:01\r\u001b[K     |█▎                              | 71 kB 23.4 MB/s eta 0:00:01\r\u001b[K     |█▌                              | 81 kB 25.0 MB/s eta 0:00:01\r\u001b[K     |█▋                              | 92 kB 26.8 MB/s eta 0:00:01\r\u001b[K     |█▉                              | 102 kB 28.8 MB/s eta 0:00:01\r\u001b[K     |██                              | 112 kB 28.8 MB/s eta 0:00:01\r\u001b[K     |██▏                             | 122 kB 28.8 MB/s eta 0:00:01\r\u001b[K     |██▍                             | 133 kB 28.8 MB/s eta 0:00:01\r\u001b[K     |██▋                             | 143 kB 28.8 MB/s eta 0:00:01\r\u001b[K     |██▊                             | 153 kB 28.8 MB/s eta 0:00:01\r\u001b[K     |███                             | 163 kB 28.8 MB/s eta 0:00:01\r\u001b[K     |███▏                            | 174 kB 28.8 MB/s eta 0:00:01\r\u001b[K     |███▎                            | 184 kB 28.8 MB/s eta 0:00:01\r\u001b[K     |███▌                            | 194 kB 28.8 MB/s eta 0:00:01\r\u001b[K     |███▊                            | 204 kB 28.8 MB/s eta 0:00:01\r\u001b[K     |███▉                            | 215 kB 28.8 MB/s eta 0:00:01\r\u001b[K     |████                            | 225 kB 28.8 MB/s eta 0:00:01\r\u001b[K     |████▎                           | 235 kB 28.8 MB/s eta 0:00:01\r\u001b[K     |████▍                           | 245 kB 28.8 MB/s eta 0:00:01\r\u001b[K     |████▋                           | 256 kB 28.8 MB/s eta 0:00:01\r\u001b[K     |████▉                           | 266 kB 28.8 MB/s eta 0:00:01\r\u001b[K     |█████                           | 276 kB 28.8 MB/s eta 0:00:01\r\u001b[K     |█████▏                          | 286 kB 28.8 MB/s eta 0:00:01\r\u001b[K     |█████▍                          | 296 kB 28.8 MB/s eta 0:00:01\r\u001b[K     |█████▌                          | 307 kB 28.8 MB/s eta 0:00:01\r\u001b[K     |█████▊                          | 317 kB 28.8 MB/s eta 0:00:01\r\u001b[K     |██████                          | 327 kB 28.8 MB/s eta 0:00:01\r\u001b[K     |██████                          | 337 kB 28.8 MB/s eta 0:00:01\r\u001b[K     |██████▎                         | 348 kB 28.8 MB/s eta 0:00:01\r\u001b[K     |██████▌                         | 358 kB 28.8 MB/s eta 0:00:01\r\u001b[K     |██████▋                         | 368 kB 28.8 MB/s eta 0:00:01\r\u001b[K     |██████▉                         | 378 kB 28.8 MB/s eta 0:00:01\r\u001b[K     |███████                         | 389 kB 28.8 MB/s eta 0:00:01\r\u001b[K     |███████▏                        | 399 kB 28.8 MB/s eta 0:00:01\r\u001b[K     |███████▍                        | 409 kB 28.8 MB/s eta 0:00:01\r\u001b[K     |███████▌                        | 419 kB 28.8 MB/s eta 0:00:01\r\u001b[K     |███████▊                        | 430 kB 28.8 MB/s eta 0:00:01\r\u001b[K     |████████                        | 440 kB 28.8 MB/s eta 0:00:01\r\u001b[K     |████████                        | 450 kB 28.8 MB/s eta 0:00:01\r\u001b[K     |████████▎                       | 460 kB 28.8 MB/s eta 0:00:01\r\u001b[K     |████████▌                       | 471 kB 28.8 MB/s eta 0:00:01\r\u001b[K     |████████▋                       | 481 kB 28.8 MB/s eta 0:00:01\r\u001b[K     |████████▉                       | 491 kB 28.8 MB/s eta 0:00:01\r\u001b[K     |█████████                       | 501 kB 28.8 MB/s eta 0:00:01\r\u001b[K     |█████████▏                      | 512 kB 28.8 MB/s eta 0:00:01\r\u001b[K     |█████████▍                      | 522 kB 28.8 MB/s eta 0:00:01\r\u001b[K     |█████████▋                      | 532 kB 28.8 MB/s eta 0:00:01\r\u001b[K     |█████████▊                      | 542 kB 28.8 MB/s eta 0:00:01\r\u001b[K     |██████████                      | 552 kB 28.8 MB/s eta 0:00:01\r\u001b[K     |██████████▏                     | 563 kB 28.8 MB/s eta 0:00:01\r\u001b[K     |██████████▎                     | 573 kB 28.8 MB/s eta 0:00:01\r\u001b[K     |██████████▌                     | 583 kB 28.8 MB/s eta 0:00:01\r\u001b[K     |██████████▊                     | 593 kB 28.8 MB/s eta 0:00:01\r\u001b[K     |██████████▉                     | 604 kB 28.8 MB/s eta 0:00:01\r\u001b[K     |███████████                     | 614 kB 28.8 MB/s eta 0:00:01\r\u001b[K     |███████████▎                    | 624 kB 28.8 MB/s eta 0:00:01\r\u001b[K     |███████████▍                    | 634 kB 28.8 MB/s eta 0:00:01\r\u001b[K     |███████████▋                    | 645 kB 28.8 MB/s eta 0:00:01\r\u001b[K     |███████████▉                    | 655 kB 28.8 MB/s eta 0:00:01\r\u001b[K     |████████████                    | 665 kB 28.8 MB/s eta 0:00:01\r\u001b[K     |████████████▏                   | 675 kB 28.8 MB/s eta 0:00:01\r\u001b[K     |████████████▍                   | 686 kB 28.8 MB/s eta 0:00:01\r\u001b[K     |████████████▌                   | 696 kB 28.8 MB/s eta 0:00:01\r\u001b[K     |████████████▊                   | 706 kB 28.8 MB/s eta 0:00:01\r\u001b[K     |█████████████                   | 716 kB 28.8 MB/s eta 0:00:01\r\u001b[K     |█████████████                   | 727 kB 28.8 MB/s eta 0:00:01\r\u001b[K     |█████████████▎                  | 737 kB 28.8 MB/s eta 0:00:01\r\u001b[K     |█████████████▌                  | 747 kB 28.8 MB/s eta 0:00:01\r\u001b[K     |█████████████▋                  | 757 kB 28.8 MB/s eta 0:00:01\r\u001b[K     |█████████████▉                  | 768 kB 28.8 MB/s eta 0:00:01\r\u001b[K     |██████████████                  | 778 kB 28.8 MB/s eta 0:00:01\r\u001b[K     |██████████████▏                 | 788 kB 28.8 MB/s eta 0:00:01\r\u001b[K     |██████████████▍                 | 798 kB 28.8 MB/s eta 0:00:01\r\u001b[K     |██████████████▌                 | 808 kB 28.8 MB/s eta 0:00:01\r\u001b[K     |██████████████▊                 | 819 kB 28.8 MB/s eta 0:00:01\r\u001b[K     |███████████████                 | 829 kB 28.8 MB/s eta 0:00:01\r\u001b[K     |███████████████                 | 839 kB 28.8 MB/s eta 0:00:01\r\u001b[K     |███████████████▎                | 849 kB 28.8 MB/s eta 0:00:01\r\u001b[K     |███████████████▌                | 860 kB 28.8 MB/s eta 0:00:01\r\u001b[K     |███████████████▋                | 870 kB 28.8 MB/s eta 0:00:01\r\u001b[K     |███████████████▉                | 880 kB 28.8 MB/s eta 0:00:01\r\u001b[K     |████████████████                | 890 kB 28.8 MB/s eta 0:00:01\r\u001b[K     |████████████████▏               | 901 kB 28.8 MB/s eta 0:00:01\r\u001b[K     |████████████████▍               | 911 kB 28.8 MB/s eta 0:00:01\r\u001b[K     |████████████████▋               | 921 kB 28.8 MB/s eta 0:00:01\r\u001b[K     |████████████████▊               | 931 kB 28.8 MB/s eta 0:00:01\r\u001b[K     |█████████████████               | 942 kB 28.8 MB/s eta 0:00:01\r\u001b[K     |█████████████████▏              | 952 kB 28.8 MB/s eta 0:00:01\r\u001b[K     |█████████████████▎              | 962 kB 28.8 MB/s eta 0:00:01\r\u001b[K     |█████████████████▌              | 972 kB 28.8 MB/s eta 0:00:01\r\u001b[K     |█████████████████▊              | 983 kB 28.8 MB/s eta 0:00:01\r\u001b[K     |█████████████████▉              | 993 kB 28.8 MB/s eta 0:00:01\r\u001b[K     |██████████████████              | 1.0 MB 28.8 MB/s eta 0:00:01\r\u001b[K     |██████████████████▎             | 1.0 MB 28.8 MB/s eta 0:00:01\r\u001b[K     |██████████████████▍             | 1.0 MB 28.8 MB/s eta 0:00:01\r\u001b[K     |██████████████████▋             | 1.0 MB 28.8 MB/s eta 0:00:01\r\u001b[K     |██████████████████▉             | 1.0 MB 28.8 MB/s eta 0:00:01\r\u001b[K     |███████████████████             | 1.1 MB 28.8 MB/s eta 0:00:01\r\u001b[K     |███████████████████▏            | 1.1 MB 28.8 MB/s eta 0:00:01\r\u001b[K     |███████████████████▍            | 1.1 MB 28.8 MB/s eta 0:00:01\r\u001b[K     |███████████████████▌            | 1.1 MB 28.8 MB/s eta 0:00:01\r\u001b[K     |███████████████████▊            | 1.1 MB 28.8 MB/s eta 0:00:01\r\u001b[K     |████████████████████            | 1.1 MB 28.8 MB/s eta 0:00:01\r\u001b[K     |████████████████████            | 1.1 MB 28.8 MB/s eta 0:00:01\r\u001b[K     |████████████████████▎           | 1.1 MB 28.8 MB/s eta 0:00:01\r\u001b[K     |████████████████████▌           | 1.1 MB 28.8 MB/s eta 0:00:01\r\u001b[K     |████████████████████▋           | 1.1 MB 28.8 MB/s eta 0:00:01\r\u001b[K     |████████████████████▉           | 1.2 MB 28.8 MB/s eta 0:00:01\r\u001b[K     |█████████████████████           | 1.2 MB 28.8 MB/s eta 0:00:01\r\u001b[K     |█████████████████████▏          | 1.2 MB 28.8 MB/s eta 0:00:01\r\u001b[K     |█████████████████████▍          | 1.2 MB 28.8 MB/s eta 0:00:01\r\u001b[K     |█████████████████████▌          | 1.2 MB 28.8 MB/s eta 0:00:01\r\u001b[K     |█████████████████████▊          | 1.2 MB 28.8 MB/s eta 0:00:01\r\u001b[K     |██████████████████████          | 1.2 MB 28.8 MB/s eta 0:00:01\r\u001b[K     |██████████████████████          | 1.2 MB 28.8 MB/s eta 0:00:01\r\u001b[K     |██████████████████████▎         | 1.2 MB 28.8 MB/s eta 0:00:01\r\u001b[K     |██████████████████████▌         | 1.2 MB 28.8 MB/s eta 0:00:01\r\u001b[K     |██████████████████████▋         | 1.3 MB 28.8 MB/s eta 0:00:01\r\u001b[K     |██████████████████████▉         | 1.3 MB 28.8 MB/s eta 0:00:01\r\u001b[K     |███████████████████████         | 1.3 MB 28.8 MB/s eta 0:00:01\r\u001b[K     |███████████████████████▏        | 1.3 MB 28.8 MB/s eta 0:00:01\r\u001b[K     |███████████████████████▍        | 1.3 MB 28.8 MB/s eta 0:00:01\r\u001b[K     |███████████████████████▋        | 1.3 MB 28.8 MB/s eta 0:00:01\r\u001b[K     |███████████████████████▊        | 1.3 MB 28.8 MB/s eta 0:00:01\r\u001b[K     |████████████████████████        | 1.3 MB 28.8 MB/s eta 0:00:01\r\u001b[K     |████████████████████████▏       | 1.3 MB 28.8 MB/s eta 0:00:01\r\u001b[K     |████████████████████████▎       | 1.4 MB 28.8 MB/s eta 0:00:01\r\u001b[K     |████████████████████████▌       | 1.4 MB 28.8 MB/s eta 0:00:01\r\u001b[K     |████████████████████████▊       | 1.4 MB 28.8 MB/s eta 0:00:01\r\u001b[K     |████████████████████████▉       | 1.4 MB 28.8 MB/s eta 0:00:01\r\u001b[K     |█████████████████████████       | 1.4 MB 28.8 MB/s eta 0:00:01\r\u001b[K     |█████████████████████████▎      | 1.4 MB 28.8 MB/s eta 0:00:01\r\u001b[K     |█████████████████████████▍      | 1.4 MB 28.8 MB/s eta 0:00:01\r\u001b[K     |█████████████████████████▋      | 1.4 MB 28.8 MB/s eta 0:00:01\r\u001b[K     |█████████████████████████▉      | 1.4 MB 28.8 MB/s eta 0:00:01\r\u001b[K     |██████████████████████████      | 1.4 MB 28.8 MB/s eta 0:00:01\r\u001b[K     |██████████████████████████▏     | 1.5 MB 28.8 MB/s eta 0:00:01\r\u001b[K     |██████████████████████████▍     | 1.5 MB 28.8 MB/s eta 0:00:01\r\u001b[K     |██████████████████████████▌     | 1.5 MB 28.8 MB/s eta 0:00:01\r\u001b[K     |██████████████████████████▊     | 1.5 MB 28.8 MB/s eta 0:00:01\r\u001b[K     |███████████████████████████     | 1.5 MB 28.8 MB/s eta 0:00:01\r\u001b[K     |███████████████████████████     | 1.5 MB 28.8 MB/s eta 0:00:01\r\u001b[K     |███████████████████████████▎    | 1.5 MB 28.8 MB/s eta 0:00:01\r\u001b[K     |███████████████████████████▌    | 1.5 MB 28.8 MB/s eta 0:00:01\r\u001b[K     |███████████████████████████▋    | 1.5 MB 28.8 MB/s eta 0:00:01\r\u001b[K     |███████████████████████████▉    | 1.5 MB 28.8 MB/s eta 0:00:01\r\u001b[K     |████████████████████████████    | 1.6 MB 28.8 MB/s eta 0:00:01\r\u001b[K     |████████████████████████████▏   | 1.6 MB 28.8 MB/s eta 0:00:01\r\u001b[K     |████████████████████████████▍   | 1.6 MB 28.8 MB/s eta 0:00:01\r\u001b[K     |████████████████████████████▋   | 1.6 MB 28.8 MB/s eta 0:00:01\r\u001b[K     |████████████████████████████▊   | 1.6 MB 28.8 MB/s eta 0:00:01\r\u001b[K     |█████████████████████████████   | 1.6 MB 28.8 MB/s eta 0:00:01\r\u001b[K     |█████████████████████████████   | 1.6 MB 28.8 MB/s eta 0:00:01\r\u001b[K     |█████████████████████████████▎  | 1.6 MB 28.8 MB/s eta 0:00:01\r\u001b[K     |█████████████████████████████▌  | 1.6 MB 28.8 MB/s eta 0:00:01\r\u001b[K     |█████████████████████████████▋  | 1.6 MB 28.8 MB/s eta 0:00:01\r\u001b[K     |█████████████████████████████▉  | 1.7 MB 28.8 MB/s eta 0:00:01\r\u001b[K     |██████████████████████████████  | 1.7 MB 28.8 MB/s eta 0:00:01\r\u001b[K     |██████████████████████████████▏ | 1.7 MB 28.8 MB/s eta 0:00:01\r\u001b[K     |██████████████████████████████▍ | 1.7 MB 28.8 MB/s eta 0:00:01\r\u001b[K     |██████████████████████████████▋ | 1.7 MB 28.8 MB/s eta 0:00:01\r\u001b[K     |██████████████████████████████▊ | 1.7 MB 28.8 MB/s eta 0:00:01\r\u001b[K     |███████████████████████████████ | 1.7 MB 28.8 MB/s eta 0:00:01\r\u001b[K     |███████████████████████████████▏| 1.7 MB 28.8 MB/s eta 0:00:01\r\u001b[K     |███████████████████████████████▎| 1.7 MB 28.8 MB/s eta 0:00:01\r\u001b[K     |███████████████████████████████▌| 1.8 MB 28.8 MB/s eta 0:00:01\r\u001b[K     |███████████████████████████████▊| 1.8 MB 28.8 MB/s eta 0:00:01\r\u001b[K     |███████████████████████████████▉| 1.8 MB 28.8 MB/s eta 0:00:01\r\u001b[K     |████████████████████████████████| 1.8 MB 28.8 MB/s \n",
            "\u001b[?25hCollecting jsonpickle\n",
            "  Downloading jsonpickle-2.2.0-py2.py3-none-any.whl (39 kB)\n",
            "Requirement already satisfied: pandas>=1.1.5 in /usr/local/lib/python3.7/dist-packages (from pm4py) (1.3.5)\n",
            "Requirement already satisfied: cvxopt in /usr/local/lib/python3.7/dist-packages (from pm4py) (1.2.7)\n",
            "Requirement already satisfied: pytz in /usr/local/lib/python3.7/dist-packages (from pm4py) (2022.1)\n",
            "Requirement already satisfied: scipy in /usr/local/lib/python3.7/dist-packages (from pm4py) (1.4.1)\n",
            "Requirement already satisfied: lxml in /usr/local/lib/python3.7/dist-packages (from pm4py) (4.2.6)\n",
            "Requirement already satisfied: graphviz in /usr/local/lib/python3.7/dist-packages (from pm4py) (0.10.1)\n",
            "Requirement already satisfied: intervaltree in /usr/local/lib/python3.7/dist-packages (from pm4py) (2.1.0)\n",
            "Requirement already satisfied: pydotplus in /usr/local/lib/python3.7/dist-packages (from pm4py) (2.0.2)\n",
            "Collecting stringdist\n",
            "  Downloading StringDist-1.0.9.tar.gz (7.4 kB)\n",
            "Requirement already satisfied: sympy in /usr/local/lib/python3.7/dist-packages (from pm4py) (1.7.1)\n",
            "Requirement already satisfied: matplotlib in /usr/local/lib/python3.7/dist-packages (from pm4py) (3.2.2)\n",
            "Requirement already satisfied: networkx in /usr/local/lib/python3.7/dist-packages (from pm4py) (2.6.3)\n",
            "Requirement already satisfied: tqdm in /usr/local/lib/python3.7/dist-packages (from pm4py) (4.64.0)\n",
            "Requirement already satisfied: numpy>=1.19.5 in /usr/local/lib/python3.7/dist-packages (from pm4py) (1.21.6)\n",
            "Collecting pyvis\n",
            "  Downloading pyvis-0.2.1.tar.gz (21 kB)\n",
            "Collecting deprecation\n",
            "  Downloading deprecation-2.1.0-py2.py3-none-any.whl (11 kB)\n",
            "Requirement already satisfied: python-dateutil>=2.7.3 in /usr/local/lib/python3.7/dist-packages (from pandas>=1.1.5->pm4py) (2.8.2)\n",
            "Requirement already satisfied: six>=1.5 in /usr/local/lib/python3.7/dist-packages (from python-dateutil>=2.7.3->pandas>=1.1.5->pm4py) (1.15.0)\n",
            "Requirement already satisfied: packaging in /usr/local/lib/python3.7/dist-packages (from deprecation->pm4py) (21.3)\n",
            "Requirement already satisfied: sortedcontainers in /usr/local/lib/python3.7/dist-packages (from intervaltree->pm4py) (2.4.0)\n",
            "Requirement already satisfied: importlib-metadata in /usr/local/lib/python3.7/dist-packages (from jsonpickle->pm4py) (4.11.3)\n",
            "Requirement already satisfied: zipp>=0.5 in /usr/local/lib/python3.7/dist-packages (from importlib-metadata->jsonpickle->pm4py) (3.8.0)\n",
            "Requirement already satisfied: typing-extensions>=3.6.4 in /usr/local/lib/python3.7/dist-packages (from importlib-metadata->jsonpickle->pm4py) (4.2.0)\n",
            "Requirement already satisfied: kiwisolver>=1.0.1 in /usr/local/lib/python3.7/dist-packages (from matplotlib->pm4py) (1.4.2)\n",
            "Requirement already satisfied: cycler>=0.10 in /usr/local/lib/python3.7/dist-packages (from matplotlib->pm4py) (0.11.0)\n",
            "Requirement already satisfied: pyparsing!=2.0.4,!=2.1.2,!=2.1.6,>=2.0.1 in /usr/local/lib/python3.7/dist-packages (from matplotlib->pm4py) (3.0.9)\n",
            "Requirement already satisfied: jinja2>=2.9.6 in /usr/local/lib/python3.7/dist-packages (from pyvis->pm4py) (2.11.3)\n",
            "Requirement already satisfied: ipython>=5.3.0 in /usr/local/lib/python3.7/dist-packages (from pyvis->pm4py) (5.5.0)\n",
            "Requirement already satisfied: prompt-toolkit<2.0.0,>=1.0.4 in /usr/local/lib/python3.7/dist-packages (from ipython>=5.3.0->pyvis->pm4py) (1.0.18)\n",
            "Requirement already satisfied: pickleshare in /usr/local/lib/python3.7/dist-packages (from ipython>=5.3.0->pyvis->pm4py) (0.7.5)\n",
            "Requirement already satisfied: traitlets>=4.2 in /usr/local/lib/python3.7/dist-packages (from ipython>=5.3.0->pyvis->pm4py) (5.1.1)\n",
            "Requirement already satisfied: decorator in /usr/local/lib/python3.7/dist-packages (from ipython>=5.3.0->pyvis->pm4py) (4.4.2)\n",
            "Requirement already satisfied: simplegeneric>0.8 in /usr/local/lib/python3.7/dist-packages (from ipython>=5.3.0->pyvis->pm4py) (0.8.1)\n",
            "Requirement already satisfied: pygments in /usr/local/lib/python3.7/dist-packages (from ipython>=5.3.0->pyvis->pm4py) (2.6.1)\n",
            "Requirement already satisfied: setuptools>=18.5 in /usr/local/lib/python3.7/dist-packages (from ipython>=5.3.0->pyvis->pm4py) (57.4.0)\n",
            "Requirement already satisfied: pexpect in /usr/local/lib/python3.7/dist-packages (from ipython>=5.3.0->pyvis->pm4py) (4.8.0)\n",
            "Requirement already satisfied: MarkupSafe>=0.23 in /usr/local/lib/python3.7/dist-packages (from jinja2>=2.9.6->pyvis->pm4py) (2.0.1)\n",
            "Requirement already satisfied: wcwidth in /usr/local/lib/python3.7/dist-packages (from prompt-toolkit<2.0.0,>=1.0.4->ipython>=5.3.0->pyvis->pm4py) (0.2.5)\n",
            "Requirement already satisfied: ptyprocess>=0.5 in /usr/local/lib/python3.7/dist-packages (from pexpect->ipython>=5.3.0->pyvis->pm4py) (0.7.0)\n",
            "Requirement already satisfied: mpmath>=0.19 in /usr/local/lib/python3.7/dist-packages (from sympy->pm4py) (1.2.1)\n",
            "Building wheels for collected packages: pyvis, stringdist\n",
            "  Building wheel for pyvis (setup.py) ... \u001b[?25l\u001b[?25hdone\n",
            "  Created wheel for pyvis: filename=pyvis-0.2.1-py3-none-any.whl size=23688 sha256=46cf2811359b8251ad2915f2f57a7b5a621f1476683fe25f8c01b6b33cd416f8\n",
            "  Stored in directory: /root/.cache/pip/wheels/2a/8f/04/6340d46afc74f59cc857a594ca1a2a14a1f4cbd4fd6c2e9306\n",
            "  Building wheel for stringdist (setup.py) ... \u001b[?25l\u001b[?25hdone\n",
            "  Created wheel for stringdist: filename=StringDist-1.0.9-cp37-cp37m-linux_x86_64.whl size=23605 sha256=eeebf5b73f3186011d2a85931f654d6081f01b645459a66446834bea72c56d01\n",
            "  Stored in directory: /root/.cache/pip/wheels/d7/9c/d4/63bc3d8931de0980b9e4a724dea290bb40b8b1b2bd6227c8da\n",
            "Successfully built pyvis stringdist\n",
            "Installing collected packages: jsonpickle, stringdist, pyvis, deprecation, pm4py\n",
            "Successfully installed deprecation-2.1.0 jsonpickle-2.2.0 pm4py-2.2.21 pyvis-0.2.1 stringdist-1.0.9\n"
          ]
        }
      ]
    },
    {
      "cell_type": "code",
      "source": [
        "import os\n",
        "from pprint import pprint\n",
        "import pandas as pd\n",
        "\n",
        "from pm4py.objects.log.importer.xes import importer as xes_importer\n",
        "from pm4py.objects.conversion.log import converter as log_converter\n",
        "\n",
        "#wd = os.path.join('..', 'data', 'cleaned_logs')\n",
        "\n",
        "#DOM_DEC = os.path.join(wd, 'DomesticDeclarations.xes')\n",
        "#INT_DEC = os.path.join(wd, 'InternationalDeclarations.xes')\n",
        "PER = 'PermitLog.xes'\n",
        "#PRE = os.path.join(wd, 'PrepaidTravelCost.xes')\n",
        "#REQ = os.path.join(wd, 'RequestForPayment.xes')\n",
        "\n",
        "\n",
        "def read_log(file):\n",
        "    return xes_importer.apply(file)\n",
        "\n",
        "def to_dataframe(log):\n",
        "    log = log_converter.apply(log, variant=log_converter.Variants.TO_DATA_FRAME)\n",
        "    return log"
      ],
      "metadata": {
        "id": "X9y0xsqmYIGE"
      },
      "execution_count": null,
      "outputs": []
    },
    {
      "cell_type": "code",
      "source": [
        "def flat_log(log, tuple_size: int):\n",
        "    '''\n",
        "    1. transform events into dataframe:\n",
        "    '''\n",
        "    features = []\n",
        "\n",
        "    for trace in log:\n",
        "        for idx, event in enumerate(trace[:-1]):\n",
        "            pre = event\n",
        "            post = trace[idx+1]\n",
        "\n",
        "            time_delta = post['time:timestamp'] - pre['time:timestamp']\n",
        "\n",
        "            pair = {'pre': pre['concept:name'],\n",
        "                    'post': post['concept:name'],\n",
        "                    'pre_ts': pre['time:timestamp'],\n",
        "                    'post_ts': post['time:timestamp'],\n",
        "                    'ts_delta': time_delta,\n",
        "                    'pre_role': pre['org:role'],\n",
        "                    'post_role': post['org:role']}\n",
        "            features.append(pair)\n",
        "\n",
        "    return pd.DataFrame(features)"
      ],
      "metadata": {
        "id": "PytWyVC8Y8BO"
      },
      "execution_count": null,
      "outputs": []
    },
    {
      "cell_type": "code",
      "source": [
        "from datetime import datetime, timezone, timedelta\n",
        "\n",
        "def stem(label: str, blacklist: list):\n",
        "    '''\n",
        "    This function stems a given event label.\n",
        "    Inputs:\n",
        "    - label: single label to stem\n",
        "    - blacklist: list of terms, that should be excluded from the label\n",
        "    Return: stemmed label\n",
        "    '''\n",
        "    parts = label.split(' ')\n",
        "    parts = list(filter(lambda x: x not in blacklist, parts))\n",
        "    return ' '.join(parts)\n",
        "\n",
        "def time_dif(x: tuple, interval: str):\n",
        "    '''\n",
        "    Calculate the differences between two points in time.\n",
        "    Inputs:\n",
        "        - x: tuple of two datetime objects\n",
        "        - interval: indicator of the return type; accepted values: 'd', 'h', 's'\n",
        "    Return: interval in days, hours or seconds\n",
        "    '''\n",
        "    res = time_wrap(x[0], x[1])\n",
        "\n",
        "    days = res.days\n",
        "    hours = res.seconds//60//60\n",
        "    seconds = res.seconds\n",
        "\n",
        "    if interval is 'd':\n",
        "        return days\n",
        "    elif interval is 'h':\n",
        "        return hours + (days * 24)\n",
        "    elif interval is 's':\n",
        "        return seconds + (days * 24 * 60 * 60)\n",
        "\n",
        "def number_of_non_workdays(start, end):\n",
        "    '''\n",
        "    Compute the number of days between two points in time, excluding weekends.\n",
        "    Input:\n",
        "        - start: datetime object\n",
        "        - end: datetime object\n",
        "    Return:\n",
        "        int: number of days\n",
        "    '''\n",
        "    # 0: Monday\n",
        "    days = []\n",
        "\n",
        "    while(start <= end):\n",
        "        days.append(start.weekday())\n",
        "        start = start + timedelta(days=1)\n",
        "\n",
        "    days = len(list(filter(lambda x: x > 4, days)))\n",
        "\n",
        "    return days\n",
        "\n",
        "def time_wrap(start: datetime, end: datetime, s_hour = 8, e_hour = 18):\n",
        "    '''\n",
        "    Return the temporal difference between two points in time, adjusted to a given workschedule.\n",
        "    Input:\n",
        "        - start: datetime object\n",
        "        - end: datetime object\n",
        "        - s_hour: start of workschedule\n",
        "        - e_hour: end of workschedule\n",
        "\n",
        "    Return:\n",
        "        - timedelta in seconds\n",
        "    '''\n",
        "\n",
        "    # worktime after start event\n",
        "    e_time = datetime(start.year, start.month, start.day, e_hour)\n",
        "    start = start.replace(tzinfo=None)\n",
        "    t1 = (e_time - start).seconds\n",
        "\n",
        "    # worktime before end event\n",
        "    end = end.replace(tzinfo=None)\n",
        "    s_time = datetime(start.year, start.month, start.day, s_hour)\n",
        "    t3 = (end - s_time).seconds\n",
        "\n",
        "    # calculate days between start and end exclusive non-working days\n",
        "    days_total = (end - start).days\n",
        "    non_workingdays = number_of_non_workdays(start, end)\n",
        "\n",
        "    working_days = days_total - non_workingdays\n",
        "    if working_days > 1:\n",
        "        working_days -= 1 # consider only complete day in between\n",
        "        total_hours_between = (e_hour - s_hour) * working_days\n",
        "\n",
        "        # convert into seconds\n",
        "        t2 = total_hours_between * 60 * 60\n",
        "    else:\n",
        "        # in this case, there is no full working day between start and end\n",
        "        t2 = 0\n",
        "\n",
        "    total_dif = t1 + t2 + t3\n",
        "\n",
        "    return timedelta(seconds=total_dif)"
      ],
      "metadata": {
        "id": "EB_ODXXHY8Hs"
      },
      "execution_count": null,
      "outputs": []
    },
    {
      "cell_type": "code",
      "source": [
        "import matplotlib.pyplot as plt\n",
        "import seaborn as sb\n",
        "\n",
        "color = ['#3498db']\n",
        "target_dir = 'figures/'\n",
        "\n",
        "def distplot(data, bins, xlabel, ylabel, title, name, export=False, font_scale=1.5):\n",
        "\n",
        "    sb.set(rc={\"figure.figsize\": (8, 5)}, font_scale=font_scale)\n",
        "    sb.set_style('white')\n",
        "\n",
        "    ax = sb.distplot(data, bins=48, kde = False, color=color[0])\n",
        "    ax.set(xlabel=xlabel, ylabel=ylabel)\n",
        "\n",
        "    if title is not None:\n",
        "        plt.title(title)\n",
        "\n",
        "    plt.tight_layout()\n",
        "    if not export:\n",
        "        plt.show()\n",
        "    else:\n",
        "        file_name = target_dir + name\n",
        "        plt.savefig(file_name)"
      ],
      "metadata": {
        "id": "dgxzBc4dY8Mb"
      },
      "execution_count": null,
      "outputs": []
    },
    {
      "cell_type": "code",
      "source": [
        "import numpy as np\n",
        "import math\n",
        "\n",
        "def get_columns(df: pd.DataFrame):\n",
        "    return list(df.columns)\n",
        "\n",
        "def describe_clm(df: pd.DataFrame, clm_name):\n",
        "    report = {}\n",
        "\n",
        "    unique_elements = df[clm_name].unique()\n",
        "    clm = df[clm_name].to_list()\n",
        "\n",
        "    elements = len(clm)\n",
        "    missing = get_missing(clm)\n",
        "    coverage = get_coverage(elements, missing, True)\n",
        "\n",
        "    report['column'] = clm_name.split(':')[-1]\n",
        "    report['elements'] = elements\n",
        "    report['unique_elements'] = len(unique_elements)\n",
        "    report['NaN'] = missing\n",
        "    report['coverage'] = coverage\n",
        "\n",
        "    return report\n",
        "\n",
        "\n",
        "def get_coverage(total, elements, inverse=False, fields=3):\n",
        "    if inverse:\n",
        "        elements = total - elements\n",
        "\n",
        "    coverage = elements / total * 100\n",
        "\n",
        "    return round(coverage, fields)\n",
        "\n",
        "def get_missing(values: list):\n",
        "    def is_missing(value):\n",
        "        try:\n",
        "            if isinstance(value, str):\n",
        "                return value.upper() is 'UNKNOWN' or value.upper() is 'MISSINMG'\n",
        "\n",
        "            return value is np.nan or math.isnan(value)\n",
        "        except TypeError as error:\n",
        "            return False\n",
        "\n",
        "    return len(list(filter(lambda x: x, map(is_missing, values))))"
      ],
      "metadata": {
        "id": "mlIUS0A0Y8RL"
      },
      "execution_count": null,
      "outputs": []
    },
    {
      "cell_type": "code",
      "source": [
        "!pip install sys"
      ],
      "metadata": {
        "colab": {
          "base_uri": "https://localhost:8080/"
        },
        "id": "aUdMQqXZZ3A_",
        "outputId": "67db959f-99b3-4a93-ba4d-3e0e6a623a49"
      },
      "execution_count": null,
      "outputs": [
        {
          "output_type": "stream",
          "name": "stdout",
          "text": [
            "\u001b[31mERROR: Could not find a version that satisfies the requirement sys (from versions: none)\u001b[0m\n",
            "\u001b[31mERROR: No matching distribution found for sys\u001b[0m\n"
          ]
        }
      ]
    },
    {
      "cell_type": "code",
      "source": [
        "from collections import Counter\n",
        "from statistics import mean\n",
        "import matplotlib.pyplot as plt"
      ],
      "metadata": {
        "id": "AYuTfPcZaIfy"
      },
      "execution_count": null,
      "outputs": []
    },
    {
      "cell_type": "code",
      "source": [
        "!pip install src==0.0.6"
      ],
      "metadata": {
        "colab": {
          "base_uri": "https://localhost:8080/"
        },
        "id": "HVrXxUucaMfx",
        "outputId": "6d007601-2bd8-4597-e971-25902662e2a5"
      },
      "execution_count": null,
      "outputs": [
        {
          "output_type": "stream",
          "name": "stdout",
          "text": [
            "Collecting src==0.0.6\n",
            "  Using cached src-0.0.6.zip (5.6 kB)\n",
            "Building wheels for collected packages: src\n",
            "  Building wheel for src (setup.py) ... \u001b[?25lerror\n",
            "\u001b[31m  ERROR: Failed building wheel for src\u001b[0m\n",
            "\u001b[?25h  Running setup.py clean for src\n",
            "Failed to build src\n",
            "Installing collected packages: src\n",
            "    Running setup.py install for src ... \u001b[?25l\u001b[?25hdone\n",
            "Successfully installed src\n"
          ]
        }
      ]
    },
    {
      "cell_type": "code",
      "source": [
        "import sys\n",
        "#sys.path.insert(1, '../')\n",
        "#from src.io import PER, read_log\n",
        "\n",
        "permit_log = read_log(PER)"
      ],
      "metadata": {
        "colab": {
          "base_uri": "https://localhost:8080/",
          "height": 49,
          "referenced_widgets": [
            "878192e808a749b48b993d16c4a8a650",
            "0667bcc5ec354c419bc0638ebbd8b45d",
            "0882d304e5f647cd8db438593249ee30",
            "2aa550f437864819a7b99f97b5fb9f63",
            "8e67d152a9554324b1602348d9694f46",
            "795c404a1de748f0bbc847aa36dab63b",
            "6680e858e84b41b1a4ee0ec210813fa9",
            "3aa859d22bb840d4b90b1b5a4e3ad42d",
            "26c025757dc04590971868df9d91fe34",
            "1c616622f7dd428c8f6829a60e3b10fa",
            "87149f009b664b8eba23c144d0bf19bd"
          ]
        },
        "id": "jGeQf81MY8VR",
        "outputId": "bb107af8-5fb7-451a-dda1-daaa9eae1907"
      },
      "execution_count": null,
      "outputs": [
        {
          "output_type": "display_data",
          "data": {
            "text/plain": [
              "parsing log, completed traces ::   0%|          | 0/7065 [00:00<?, ?it/s]"
            ],
            "application/vnd.jupyter.widget-view+json": {
              "version_major": 2,
              "version_minor": 0,
              "model_id": "878192e808a749b48b993d16c4a8a650"
            }
          },
          "metadata": {}
        }
      ]
    },
    {
      "cell_type": "code",
      "source": [
        "# Setup counter and variables\n",
        "trip_length_counter = Counter() # Counts the occurences of different trip lengths (nights)\n",
        "trip_month_counter = Counter()  # Counts the number of trips per month\n",
        "\n",
        "# Collects the lengths of trips per month\n",
        "trip_month_length = {1: [], 2: [], 3: [], 4: [], 5:[], 6:[], 7: [], 8: [], 9: [], 10: [], 11: [], 12: []}\n",
        "# Collects the costs of trips per day per month\n",
        "trip_month_costs_per_day = {1: [], 2: [], 3: [], 4: [], 5:[], 6:[], 7: [], 8: [], 9: [], 10: [], 11: [], 12: []}\n",
        "\n",
        "no_excluded = 0             # Number of cases that were excluded from analysis\n",
        "max_trip_length = 70        # Maximum length of a trip that will be included in the analysis\n",
        "max_cost_per_day = 100000   # Maximum cost of a trip per day that will be included in the analysis"
      ],
      "metadata": {
        "id": "YmLMLELRY8Yv"
      },
      "execution_count": null,
      "outputs": []
    },
    {
      "cell_type": "code",
      "source": [
        "# Set up functions to compute averages on trip lengths and costs\n",
        "def calculate_cost_per_day_average():\n",
        "    for mo in trip_month_costs_per_day:\n",
        "        trip_month_costs_per_day[mo] = round(mean(trip_month_costs_per_day[mo]), 2)\n",
        "\n",
        "def calculate_length_average():\n",
        "    for mo in trip_month_length:\n",
        "        trip_month_length[mo] = round(mean(trip_month_length[mo]), 1)"
      ],
      "metadata": {
        "id": "tcmLP3xeY8dm"
      },
      "execution_count": null,
      "outputs": []
    },
    {
      "cell_type": "code",
      "source": [
        "# Start analysing traces\n",
        "\n",
        "for permit in permit_log:\n",
        "    trip_start = None\n",
        "    trip_end = None\n",
        "    total_amount = 0\n",
        "\n",
        "    for event in permit:\n",
        "        if event[\"concept:name\"] == \"Start trip\":\n",
        "            trip_start = event[\"time:timestamp\"]\n",
        "            continue\n",
        "        if event[\"concept:name\"] == \"End trip\":\n",
        "            trip_end = event[\"time:timestamp\"]\n",
        "            #total_amount = float(event[\"(case)_TotalDeclared\"])\n",
        "            break\n",
        "\n",
        "    # Skip cases with have no trip start or trip end\n",
        "    if ((not trip_start) or (not trip_end)):\n",
        "        continue\n",
        "\n",
        "    # Trip length corresponds to the number of overnight stays, might also be zero\n",
        "    trip_length = (trip_end - trip_start).days\n",
        "\n",
        "    if (trip_length > max_trip_length):\n",
        "        no_excluded += 1\n",
        "        continue\n",
        "\n",
        "    # Increase counter for found length\n",
        "    trip_length_counter[trip_length] += 1\n",
        "\n",
        "    # Increase counter for the month the trip was started in\n",
        "    trip_month_counter[trip_start.month] += 1\n",
        "\n",
        "    # Add trip length to current month (for average later)\n",
        "    trip_month_length[trip_start.month].append(int(trip_length))\n",
        "\n",
        "    # Add cost per day to current month (for average later)\n",
        "    #cost_per_day = total_amount # There are trips with 0 length -> assume that this means one day\n",
        "    #if (trip_length > 0):\n",
        "     #   cost_per_day = total_amount / (trip_length+1)\n",
        "    #if ((cost_per_day > 0) & (cost_per_day < max_cost_per_day)):\n",
        "     #   trip_month_costs_per_day[trip_start.month].append(cost_per_day)\n",
        "\n",
        "\n",
        "# Just make sure everything is correct\n",
        "assert sum(trip_length_counter.values()) == sum(trip_month_counter.values())\n",
        "\n",
        "#calculate_cost_per_day_average()\n",
        "calculate_length_average()"
      ],
      "metadata": {
        "id": "bVFePAY_Y8hF"
      },
      "execution_count": null,
      "outputs": []
    },
    {
      "cell_type": "code",
      "source": [
        " #Print some information\n",
        "print(f'Only trips not longer than {max_trip_length} days were considered ({sum(trip_length_counter.values())} trips, {no_excluded} excluded).')\n",
        "print(f'\\nThere are {trip_length_counter[0]} trips with length of zero.')\n",
        "print(f'\\nDetected trip lengths (length in nights, frequency):\\n{sorted(trip_length_counter.items())}')\n",
        "print('\\nThese are the 10 most common trip lengths in percent:')\n",
        "[(length, f'{round(count / sum(trip_length_counter.values()) * 100.0, 1)} %') for length, count in trip_length_counter.most_common(10)]"
      ],
      "metadata": {
        "colab": {
          "base_uri": "https://localhost:8080/"
        },
        "id": "UEBjGZQFd0t_",
        "outputId": "523b26ed-d6d8-453d-857d-b378fa6fba98"
      },
      "execution_count": null,
      "outputs": [
        {
          "output_type": "stream",
          "name": "stdout",
          "text": [
            "Only trips not longer than 70 days were considered (27888 trips, 372 excluded).\n",
            "\n",
            "There are 2016 trips with length of zero.\n",
            "\n",
            "Detected trip lengths (length in nights, frequency):\n",
            "[(0, 2016), (1, 3048), (2, 3860), (3, 3612), (4, 3508), (5, 3136), (6, 2376), (7, 1812), (8, 1084), (9, 660), (10, 460), (11, 316), (12, 208), (13, 200), (14, 224), (15, 168), (16, 164), (17, 88), (18, 36), (19, 56), (20, 52), (21, 68), (22, 84), (23, 28), (24, 48), (25, 16), (26, 4), (27, 12), (28, 12), (29, 36), (30, 56), (31, 52), (32, 36), (33, 24), (34, 28), (35, 32), (36, 12), (37, 24), (38, 8), (39, 12), (40, 8), (41, 8), (42, 12), (44, 8), (45, 8), (46, 16), (48, 16), (49, 4), (50, 20), (51, 4), (52, 4), (54, 4), (55, 16), (56, 4), (57, 4), (59, 8), (60, 4), (61, 12), (62, 24), (63, 8), (64, 8), (66, 8), (67, 4)]\n",
            "\n",
            "These are the 10 most common trip lengths in percent:\n"
          ]
        },
        {
          "output_type": "execute_result",
          "data": {
            "text/plain": [
              "[(2, '13.8 %'),\n",
              " (3, '13.0 %'),\n",
              " (4, '12.6 %'),\n",
              " (5, '11.2 %'),\n",
              " (1, '10.9 %'),\n",
              " (6, '8.5 %'),\n",
              " (0, '7.2 %'),\n",
              " (7, '6.5 %'),\n",
              " (8, '3.9 %'),\n",
              " (9, '2.4 %')]"
            ]
          },
          "metadata": {},
          "execution_count": 48
        }
      ]
    },
    {
      "cell_type": "code",
      "source": [
        "# Plot trip lengths\n",
        "import seaborn as sns\n",
        "sns.set(context=\"talk\", style=\"whitegrid\")\n",
        "\n",
        "ax = sns.barplot(\n",
        "    x=list(trip_length_counter.keys()),\n",
        "    y=list(trip_length_counter.values()),\n",
        "    color=\"#4472C4\")\n",
        "ax.set(xlabel='Trip length in nights', ylabel='# of trips')\n",
        "\n",
        "ax.axes.xaxis.set_ticks([0,10,20,30,40,50,60])\n",
        "ax.axes.xaxis.set_ticklabels([0,10,20,30,40,50,60])\n",
        "sns.despine()"
      ],
      "metadata": {
        "colab": {
          "base_uri": "https://localhost:8080/",
          "height": 305
        },
        "id": "8HWw10QPd0pv",
        "outputId": "ab4f4b8c-bc49-4b34-cc37-3dcc8a6ae61b"
      },
      "execution_count": null,
      "outputs": [
        {
          "output_type": "display_data",
          "data": {
            "text/plain": [
              "<Figure size 432x288 with 1 Axes>"
            ],
            "image/png": "[encoded data removed]"
          },
          "metadata": {}
        }
      ]
    },
    {
      "cell_type": "code",
      "source": [
        "# Plot number of trips per month\n",
        "month_key_list = list(trip_month_counter.keys())\n",
        "month_counter_list = list(trip_month_counter.values())\n",
        "avg_length_list = list(trip_month_length[mo] for mo in month_key_list)\n",
        "\n",
        "ax = sns.barplot(\n",
        "    x=month_key_list,\n",
        "    y=month_counter_list,\n",
        "    hue=avg_length_list, palette=\"Blues\",\n",
        "    dodge=False)\n",
        "ax.set(xlabel='Month', ylabel='# of trips')\n",
        "\n",
        "plt.legend(bbox_to_anchor=(0, -0.3), loc=2, ncol=4, borderaxespad=0., title='Avg. trip length in nights', prop={'size': 14})\n",
        "sns.despine()"
      ],
      "metadata": {
        "colab": {
          "base_uri": "https://localhost:8080/",
          "height": 406
        },
        "id": "o_Cxe7X9d0lW",
        "outputId": "ae230627-4d4e-4e1a-81b4-b645df5e0f1d"
      },
      "execution_count": null,
      "outputs": [
        {
          "output_type": "display_data",
          "data": {
            "text/plain": [
              "<Figure size 432x288 with 1 Axes>"
            ],
            "image/png": "[encoded data removed]"
          },
          "metadata": {}
        }
      ]
    },
    {
      "cell_type": "code",
      "source": [
        "# Plot average costs per day of trips per month\n",
        "avg_cost_list = list(trip_month_costs_per_day[mo] for mo in month_key_list)\n",
        "\n",
        "ax = sns.barplot(\n",
        "    x=month_key_list,\n",
        "    y=avg_cost_list,\n",
        "    color=\"#4472C4\")\n",
        "ax.set(xlabel='Month', ylabel='Avg. cost of one travel day')\n",
        "sns.despine()"
      ],
      "metadata": {
        "id": "hQhHR5L_d0dJ"
      },
      "execution_count": null,
      "outputs": []
    },
    {
      "cell_type": "code",
      "source": [],
      "metadata": {
        "colab": {
          "base_uri": "https://localhost:8080/"
        },
        "id": "dTFFqXkvd0ZT",
        "outputId": "0c798f63-e64d-4aad-fadb-542577b2903d"
      },
      "execution_count": null,
      "outputs": [
        {
          "output_type": "stream",
          "name": "stdout",
          "text": [
            "[{'attributes': {'OrganizationalEntity': 'organizational unit 65458', 'ProjectNumber': 'UNKNOWN', 'TaskNumber': 'UNKNOWN', 'dec_id_0': 'declaration 76457', 'ActivityNumber': 'activity 46005', 'TotalDeclared': 39.66456144659199, 'concept:name': 'travel permit 76455', 'RequestedAmount_0': '56', 'Overspent': False, 'travel permit number': 'travel permit number 76456', 'DeclarationNumber_0': 'declaration number 76458', 'id': 'travel permit 76455', 'RequestedBudget': 41.613444658859, 'BudgetNumber': 'budget 922', 'OverspentAmount': 0.0}, 'events': [{'id': 'rv_travel permit 76455_6', 'org:resource': 'STAFF MEMBER', 'concept:name': 'Start trip', 'time:timestamp': datetime.datetime(2016, 10, 5, 0, 0, tzinfo=datetime.timezone(datetime.timedelta(seconds=7200))), 'org:role': 'EMPLOYEE'}, '..', {'id': 'fd_declaration 76457_18', 'org:resource': 'SYSTEM', 'concept:name': 'Payment Handled', 'time:timestamp': datetime.datetime(2017, 4, 13, 17, 30, 53, tzinfo=datetime.timezone(datetime.timedelta(seconds=7200))), 'org:role': 'UNDEFINED'}]}, '....', {'attributes': {'ActivityNumber': 'UNKNOWN', 'TotalDeclared': 0.0, 'concept:name': 'travel permit 13108', 'OrganizationalEntity': 'organizational unit 65464', 'Overspent': False, 'travel permit number': 'travel permit number 13109', 'ProjectNumber': 'project 13110', 'TaskNumber': 'task 427', 'id': 'travel permit 13108', 'RequestedBudget': 2830.9931622975378, 'BudgetNumber': 'budget 5650', 'OverspentAmount': -2709.6679663393825}, 'events': [{'id': 'st_step 13111_0', 'org:resource': 'STAFF MEMBER', 'concept:name': 'Permit SUBMITTED by EMPLOYEE', 'time:timestamp': datetime.datetime(2018, 12, 30, 15, 6, 24, tzinfo=datetime.timezone(datetime.timedelta(seconds=3600))), 'org:role': 'EMPLOYEE'}, '..', {'id': 'rv_travel permit 13108_7', 'org:resource': 'STAFF MEMBER', 'concept:name': 'End trip', 'time:timestamp': datetime.datetime(2019, 1, 16, 0, 0, tzinfo=datetime.timezone(datetime.timedelta(seconds=3600))), 'org:role': 'EMPLOYEE'}]}]\n"
          ]
        }
      ]
    },
    {
      "cell_type": "code",
      "source": [],
      "metadata": {
        "id": "OT4FpTxm3Pw2"
      },
      "execution_count": null,
      "outputs": []
    },
    {
      "cell_type": "markdown",
      "source": [
        "#Cluster"
      ],
      "metadata": {
        "id": "A5Yn6fSo3ZzG"
      }
    },
    {
      "cell_type": "code",
      "source": [
        "# Imports\n",
        "from collections import Counter\n",
        "import numpy as np\n",
        "import pandas as pd\n",
        "import matplotlib.pyplot as plt"
      ],
      "metadata": {
        "id": "jfHWIS4rd0VB"
      },
      "execution_count": null,
      "outputs": []
    },
    {
      "cell_type": "code",
      "source": [
        "PRE = ('PrepaidTravelCost.xes')\n",
        "ptc_log = read_log(PRE)"
      ],
      "metadata": {
        "colab": {
          "base_uri": "https://localhost:8080/",
          "height": 165
        },
        "id": "JvX3mXttd0L1",
        "outputId": "c1acec8e-f552-4bd9-97f2-e0b5229fd5b9"
      },
      "execution_count": null,
      "outputs": [
        {
          "output_type": "error",
          "ename": "NameError",
          "evalue": "ignored",
          "traceback": [
            "\u001b[0;31m---------------------------------------------------------------------------\u001b[0m",
            "\u001b[0;31mNameError\u001b[0m                                 Traceback (most recent call last)",
            "\u001b[0;32m<ipython-input-3-0362f04e1e9a>\u001b[0m in \u001b[0;36m<module>\u001b[0;34m()\u001b[0m\n\u001b[0;32m----> 1\u001b[0;31m \u001b[0mptc_log\u001b[0m \u001b[0;34m=\u001b[0m \u001b[0mread_log\u001b[0m\u001b[0;34m(\u001b[0m\u001b[0mPRE\u001b[0m\u001b[0;34m)\u001b[0m\u001b[0;34m\u001b[0m\u001b[0;34m\u001b[0m\u001b[0m\n\u001b[0m",
            "\u001b[0;31mNameError\u001b[0m: name 'read_log' is not defined"
          ]
        }
      ]
    },
    {
      "cell_type": "code",
      "source": [],
      "metadata": {
        "id": "poxT-_fod0HH"
      },
      "execution_count": null,
      "outputs": []
    },
    {
      "cell_type": "markdown",
      "source": [
        "#Bottleneck"
      ],
      "metadata": {
        "id": "imQX7KT_7ebF"
      }
    },
    {
      "cell_type": "code",
      "source": [
        "from google.colab import files\n",
        "\n",
        "uploaded = files.upload()"
      ],
      "metadata": {
        "colab": {
          "resources": {
            "http://localhost:8080/nbextensions/google.colab/files.js": {
              "data": "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",
              "ok": true,
              "headers": [
                [
                  "content-type",
                  "application/javascript"
                ]
              ],
              "status": 200,
              "status_text": ""
            }
          },
          "base_uri": "https://localhost:8080/",
          "height": 73
        },
        "id": "LbeiKwQ6d0Ck",
        "outputId": "55bb0175-52b3-4b88-a41e-d0b5a6d924f0"
      },
      "execution_count": null,
      "outputs": [
        {
          "output_type": "display_data",
          "data": {
            "text/plain": [
              "<IPython.core.display.HTML object>"
            ],
            "text/html": [
              "\n",
              "     <input type=\"file\" id=\"files-d2aa1689-0512-4d44-82fe-a9f085b6ff1f\" name=\"files[]\" multiple disabled\n",
              "        style=\"border:none\" />\n",
              "     <output id=\"result-d2aa1689-0512-4d44-82fe-a9f085b6ff1f\">\n",
              "      Upload widget is only available when the cell has been executed in the\n",
              "      current browser session. Please rerun this cell to enable.\n",
              "      </output>\n",
              "      <script src=\"/nbextensions/google.colab/files.js\"></script> "
            ]
          },
          "metadata": {}
        },
        {
          "output_type": "stream",
          "name": "stdout",
          "text": [
            "Saving DomesticDeclarations.xes to DomesticDeclarations.xes\n"
          ]
        }
      ]
    },
    {
      "cell_type": "code",
      "source": [
        "DOM_DEC = ('DomesticDeclaration.xes')\n",
        "dom_dec_log = read_log(PRE)"
      ],
      "metadata": {
        "id": "xZnFvMjJdz90"
      },
      "execution_count": null,
      "outputs": []
    },
    {
      "cell_type": "code",
      "source": [
        "collector = []\n",
        "for trace in dom_dec_log:\n",
        "    approve_event = None\n",
        "    request_event = None\n",
        "    for event in trace:\n",
        "        if event['concept:name'] == 'Declaration FINAL_APPROVED by SUPERVISOR':\n",
        "            approve_event = event['time:timestamp']\n",
        "        elif event['concept:name'] == 'Request Payment':\n",
        "            request_event = event['time:timestamp']\n",
        "            break\n",
        "    if request_event is not None and approve_event is not None:\n",
        "        collector.append((approve_event, request_event, trace.attributes['concept:name']))"
      ],
      "metadata": {
        "id": "7xAvgzLedzLB"
      },
      "execution_count": null,
      "outputs": []
    },
    {
      "cell_type": "code",
      "source": [
        "print('Found %s pairs.' %len(collector))"
      ],
      "metadata": {
        "id": "M6pg9ls-8BFd"
      },
      "execution_count": null,
      "outputs": []
    },
    {
      "cell_type": "code",
      "source": [
        "dt_hours = list(map(lambda x: time_dif(x, 'h'), collector))\n",
        "dt_hours.sort()"
      ],
      "metadata": {
        "id": "1-Cb28Fw8BLJ"
      },
      "execution_count": null,
      "outputs": []
    },
    {
      "cell_type": "code",
      "source": [
        "median = dt_hours[len(dt_hours)//2]\n",
        "print('The median duration is: %s hour(s)' %median)"
      ],
      "metadata": {
        "id": "54L3ILiF8BQt"
      },
      "execution_count": null,
      "outputs": []
    },
    {
      "cell_type": "code",
      "source": [
        "print('The maximum duration is: %s hour(s)' %max(dt_hours))"
      ],
      "metadata": {
        "id": "fYGJwhVo8BVD"
      },
      "execution_count": null,
      "outputs": []
    },
    {
      "cell_type": "code",
      "source": [],
      "metadata": {
        "id": "nRXF6Zfa8BZS"
      },
      "execution_count": null,
      "outputs": []
    },
    {
      "cell_type": "code",
      "source": [],
      "metadata": {
        "id": "6bhgyrtt8BeS"
      },
      "execution_count": null,
      "outputs": []
    },
    {
      "cell_type": "code",
      "source": [],
      "metadata": {
        "id": "BVDVQyn68BkJ"
      },
      "execution_count": null,
      "outputs": []
    },
    {
      "cell_type": "code",
      "source": [],
      "metadata": {
        "id": "WixaIQ9w8BoH"
      },
      "execution_count": null,
      "outputs": []
    },
    {
      "cell_type": "code",
      "source": [
        "from google.colab import files\n",
        "files.download('filename.extension')"
      ],
      "metadata": {
        "id": "usYH1TGZ0FLo"
      },
      "execution_count": null,
      "outputs": []
    }
  ]
}