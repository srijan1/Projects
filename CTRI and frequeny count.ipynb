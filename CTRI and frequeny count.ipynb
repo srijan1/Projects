{
 "cells": [
  {
   "cell_type": "markdown",
   "metadata": {},
   "source": [
    "# Frequency counter  "
   ]
  },
  {
   "cell_type": "code",
   "execution_count": 1,
   "metadata": {},
   "outputs": [],
   "source": [
    "# importing pandas as pd\n",
    "import pandas as pd\n",
    "\n",
    "# sample dataframe\n",
    "df = pd.read_csv(\"ctri_trials.csv\")"
   ]
  },
  {
   "cell_type": "code",
   "execution_count": 2,
   "metadata": {},
   "outputs": [
    {
     "name": "stdout",
     "output_type": "stream",
     "text": [
      "<class 'pandas.core.series.Series'>\n",
      "<class 'list'>\n"
     ]
    }
   ],
   "source": [
    "ic = df[\"inclusion_criteria\"]\n",
    "print(type(ic))\n",
    "s = ic.to_string() \n",
    "iz = ic.to_list()\n",
    "print(type(iz))"
   ]
  },
  {
   "cell_type": "code",
   "execution_count": 3,
   "metadata": {},
   "outputs": [
    {
     "name": "stdout",
     "output_type": "stream",
     "text": [
      "<class 'str'>\n"
     ]
    }
   ],
   "source": [
    "print(type(s))"
   ]
  },
  {
   "cell_type": "code",
   "execution_count": 4,
   "metadata": {},
   "outputs": [],
   "source": [
    "for i in s:\n",
    "        #print(type(iz[j]))\n",
    "        s = s.replace(':', '').replace('{', '').replace(',', '').replace('}', '')\n"
   ]
  },
  {
   "cell_type": "code",
   "execution_count": 5,
   "metadata": {},
   "outputs": [
    {
     "name": "stdout",
     "output_type": "stream",
     "text": [
      "0    'age_from' '4.00 Month(s)' 'age_to' '59.00...\n",
      "1    'age_from' '18.00 Year(s)' 'age_to' '70.00...\n",
      "2    'age_from' '18.00 Year(s)' 'age_to' '70.00...\n",
      "3    'age_from' '13.00 Year(s)' 'age_to' '70.00...\n",
      "4                                                  NaN\n",
      "5    'age_from' '18.00 Year(s)' 'age_to' '65.00...\n"
     ]
    }
   ],
   "source": [
    "print(s)\n",
    "my ={}"
   ]
  },
  {
   "cell_type": "code",
   "execution_count": 6,
   "metadata": {},
   "outputs": [
    {
     "name": "stdout",
     "output_type": "stream",
     "text": [
      "*******************\n",
      "unique_string_list =  ['0', \"'age_from'\", \"'4.00\", \"Month(s)'\", \"'age_to'\", \"'59.00...\", '1', \"'18.00\", \"Year(s)'\", \"'70.00...\", '2', '3', \"'13.00\", '4', 'NaN', '5', \"'65.00...\"]\n",
      "*******************\n",
      "\n",
      "Word Frequncy\n",
      "[0]: 1\n",
      "['age_from']: 5\n",
      "['4.00]: 1\n",
      "[Month(s)']: 1\n",
      "['age_to']: 5\n",
      "['59.00...]: 1\n",
      "[1]: 1\n",
      "['18.00]: 3\n",
      "[Year(s)']: 4\n",
      "['70.00...]: 3\n",
      "[2]: 1\n",
      "[3]: 1\n",
      "['13.00]: 1\n",
      "[4]: 1\n",
      "[NaN]: 1\n",
      "[5]: 1\n",
      "['65.00...]: 1\n",
      "*******************\n"
     ]
    }
   ],
   "source": [
    "def get_word_freq(input_string): \n",
    "\n",
    "   # convert the input string into a list of words\n",
    "   input_string_list = input_string.split()     \n",
    "   \n",
    "   #print(\"*******************\")\n",
    "   #print(\"input_string_list = \", input_string_list)\n",
    "   #print(\"*******************\\n\")\n",
    "    \n",
    "   unique_string_list = [] \n",
    "\n",
    "   # iterate the input string list and find unique words \n",
    "   for i in input_string_list:         \n",
    "\n",
    "      # test for duplicate values \n",
    "      if i not in unique_string_list: \n",
    "\n",
    "         # add unique words to second list\n",
    "         unique_string_list.append(i) \n",
    "\n",
    "   print(\"*******************\")\n",
    "   print(\"unique_string_list = \", unique_string_list)\n",
    "   print(\"*******************\\n\")\n",
    "   \n",
    "   print(\"Word Frequncy\")\n",
    "   for i in range(0, len(unique_string_list)):\n",
    "        my.update({unique_string_list[i]:input_string_list.count(unique_string_list[i])})\n",
    "        print('[{}]: {}'.format(unique_string_list[i], input_string_list.count(unique_string_list[i])))\n",
    "        \n",
    "   print(\"*******************\")\n",
    "\n",
    "def Driver(): \n",
    "   input_string = s\n",
    "   get_word_freq(input_string)                \n",
    "\n",
    "if __name__==\"__main__\": \n",
    "   Driver()          # call Driver() function "
   ]
  },
  {
   "cell_type": "code",
   "execution_count": 7,
   "metadata": {},
   "outputs": [
    {
     "name": "stdout",
     "output_type": "stream",
     "text": [
      "{'0': 1, \"'age_from'\": 5, \"'4.00\": 1, \"Month(s)'\": 1, \"'age_to'\": 5, \"'59.00...\": 1, '1': 1, \"'18.00\": 3, \"Year(s)'\": 4, \"'70.00...\": 3, '2': 1, '3': 1, \"'13.00\": 1, '4': 1, 'NaN': 1, '5': 1, \"'65.00...\": 1}\n"
     ]
    }
   ],
   "source": [
    "print(my)"
   ]
  },
  {
   "cell_type": "code",
   "execution_count": 8,
   "metadata": {},
   "outputs": [],
   "source": [
    "df = pd.DataFrame.from_dict(my,orient='index',columns =['Repeat'])"
   ]
  },
  {
   "cell_type": "code",
   "execution_count": 9,
   "metadata": {},
   "outputs": [],
   "source": [
    "df.to_excel('instance.xlsx')"
   ]
  },
  {
   "cell_type": "code",
   "execution_count": null,
   "metadata": {},
   "outputs": [],
   "source": []
  },
  {
   "cell_type": "code",
   "execution_count": null,
   "metadata": {},
   "outputs": [],
   "source": []
  },
  {
   "cell_type": "code",
   "execution_count": null,
   "metadata": {},
   "outputs": [],
   "source": [
    "  "
   ]
  }
 ],
 "metadata": {
  "kernelspec": {
   "display_name": "Python 3",
   "language": "python",
   "name": "python3"
  },
  "language_info": {
   "codemirror_mode": {
    "name": "ipython",
    "version": 3
   },
   "file_extension": ".py",
   "mimetype": "text/x-python",
   "name": "python",
   "nbconvert_exporter": "python",
   "pygments_lexer": "ipython3",
   "version": "3.7.4"
  }
 },
 "nbformat": 4,
 "nbformat_minor": 2
}
